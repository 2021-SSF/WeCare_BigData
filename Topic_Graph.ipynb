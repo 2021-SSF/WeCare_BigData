{
 "cells": [
  {
   "cell_type": "code",
   "execution_count": null,
   "id": "8b25cbae-2406-489f-aec6-5fbf37b556ab",
   "metadata": {},
   "outputs": [],
   "source": [
    "import pandas as pd\n",
    "import numpy as np\n",
    "import seaborn as sns\n",
    "import matplotlib.pyplot as plt\n",
    "import matplotlib"
   ]
  },
  {
   "cell_type": "code",
   "execution_count": null,
   "id": "5247bd5e-7dfa-4725-a9ac-3cd6b5318d13",
   "metadata": {},
   "outputs": [],
   "source": [
    "from matplotlib import font_manager, rc\n",
    "font_path = \"data/malgun.ttf\"   #폰트파일의 위치\n",
    "font_name = font_manager.FontProperties(fname=font_path).get_name()\n",
    "rc('font', family=font_name)"
   ]
  },
  {
   "cell_type": "markdown",
   "id": "d00efce9-b512-41b7-b8d3-bb18da2fc137",
   "metadata": {},
   "source": [
    "# 전체 인구 중 노인인구 현황\n",
    "## **노인인구 증감율 및 비율(통계)**\n",
    "### ※중간발표 PPT_주제선정 배경 1"
   ]
  },
  {
   "cell_type": "code",
   "execution_count": null,
   "id": "6d02040b-5063-46f2-9a2d-6128e0767630",
   "metadata": {},
   "outputs": [],
   "source": [
    "k_elders = pd.read_csv('data/project/고령인구비율_시도_시_군_구.csv', encoding = \"ansi\", header=1)\n",
    "k_elders.columns = [\"연도\", '고령인구비율', '고령인구', '전체인구']\n",
    "k_elders['연도'] = k_elders['연도'].astype(str)\n",
    "k_elders['고령외인구'] = k_elders['전체인구']-k_elders['고령인구']\n",
    "k_elders['고령외인구비율'] = round(k_elders['고령외인구'] / k_elders['전체인구'] *100)\n",
    "k_elders.set_index('연도', inplace=True)"
   ]
  },
  {
   "cell_type": "code",
   "execution_count": null,
   "id": "7997fd06-ba5b-4600-b2e9-94e93671a408",
   "metadata": {},
   "outputs": [],
   "source": [
    "display(k_elders)\n",
    "print(k_elders.info())"
   ]
  },
  {
   "cell_type": "code",
   "execution_count": null,
   "id": "b9007cf1-b8f2-4a65-a54a-61143b56e0ed",
   "metadata": {
    "tags": []
   },
   "outputs": [],
   "source": [
    "#plt.figure(figsize=(20,10))\n",
    "#plt.bar(k_elders['연도'],k_elders['고령인구'], stacked=True)\n",
    "# k_elders[['고령인구','고령외인구']].plot(kind='bar', width=0.7, stacked=True)\n",
    "# #ax1 = df[['수력','화력']].plot(kind='bar', figsize=(20, 10), width=0.7, stacked=True)  \n",
    "# plt.title('2016년 ~ 2020년 연도별 노인인구 비율 증가 추세')\n",
    "\n",
    "#plt.ylim(0,60000000)\n",
    "\n",
    "plt.style.use('ggplot')\n",
    "# 2축 그래프 그리기\n",
    "ax1 = k_elders[['고령인구비율','고령외인구비율']].plot(kind='bar',figsize=(6,6), width=0.5, stacked=True, color = ['red', 'skyblue'])\n",
    "ax2 = ax1.twinx()\n",
    "ax2.plot(k_elders.index, k_elders.고령인구비율, ls='--', marker='o', markersize=10, \n",
    "         color='green', label='전년대비 증감율(%)')  \n",
    "\n",
    "ax1.set_ylim(0, 100)\n",
    "ax2.set_ylim(5, 20)\n",
    "\n",
    "for i, v in enumerate(k_elders.index):\n",
    "    plt.text(v, k_elders.고령인구비율[i], str(k_elders.고령인구비율[i])+'%',                 # 좌표 (x축 = v, y축 = y[0]..y[1], 표시 = y[0]..y[1])\n",
    "             fontsize = 20, \n",
    "             color='black',\n",
    "             horizontalalignment='center',  # horizontalalignment (left, center, right)\n",
    "             verticalalignment='top')\n",
    "\n",
    "ax1.set_xlabel('연도', size=15)\n",
    "ax1.set_ylabel('전체 인구 분포', size = 15)\n",
    "ax2.set_ylabel('전체 인구 대비 노인 인구(%)', size=15)\n",
    "plt.title('2016년~2020년 연도별 전체 인구 중 노인인구 비율')\n",
    "\n",
    "plt.savefig(\"output/2016년-2020년_연도별_전체_인구_중_노인인구_비율.png\", transparent=True)   \n",
    "\n",
    "\n",
    "# ax1.legend(loc='upper left')\n",
    "\n",
    "plt.show()"
   ]
  },
  {
   "cell_type": "code",
   "execution_count": null,
   "id": "e7ad1961-1bb7-4f97-9717-a62de91c06ae",
   "metadata": {
    "tags": []
   },
   "outputs": [],
   "source": [
    "ax1 = k_elders['고령인구'].plot(kind='bar',figsize=(20, 10), width=0.5, color = 'orange')\n",
    "ax2 = ax1.twinx()\n",
    "ax2.plot(k_elders.index, k_elders.고령인구비율, ls='--', marker='o', markersize=10, \n",
    "         color='green', label='전년대비 증감율(%)')  \n",
    "ax2.set_ylim(5, 20)\n",
    "ax1.set_xlabel('연도', size=10)\n",
    "ax1.set_ylabel('전체 노인 인구 수 (천 만명)', size = 10)\n",
    "ax2.set_ylabel('전체 인구 대비 노인 인구(%)', size=10)\n",
    "plt.title('2016년~2020년 연도별 노인 인구 수 및 노인인구 비율', size=15)\n",
    "\n",
    "plt.savefig(\"output/2016년~2020년_연도별_노인_인구_수_및_노인인구_비율.png\", transparent=True)   \n",
    "\n",
    "# plt.title('북한 전력 발전량 (1990 ~ 2016)', size=30)\n",
    "# ax1.legend(loc='upper left')\n",
    "\n",
    "plt.show()"
   ]
  },
  {
   "cell_type": "markdown",
   "id": "ff277f20-bebd-4591-9aa3-724f19de3502",
   "metadata": {},
   "source": [
    "## **노인시설 수 변화**"
   ]
  },
  {
   "cell_type": "code",
   "execution_count": null,
   "id": "18e874b5-2554-4a00-b453-48efeb799113",
   "metadata": {},
   "outputs": [],
   "source": [
    "#시설 수"
   ]
  },
  {
   "cell_type": "markdown",
   "id": "d0aa501a-a73e-451e-91cd-708ebb7b4d80",
   "metadata": {},
   "source": [
    "# 노인인구 및 치매환자 현황\n",
    "## **노인인구 중 치매노인 증감율 및 비율(통계)**\n",
    "### ※중간발표 PPT_주제선정 배경 2-1 + 서비스 대상 치매노인 이유 "
   ]
  },
  {
   "cell_type": "code",
   "execution_count": null,
   "id": "8de6c8ec-0136-4db4-b74e-913312dd344a",
   "metadata": {
    "tags": []
   },
   "outputs": [],
   "source": [
    "K_Year_Dementia_Pop = pd.read_excel('./data/project/완료(commit할때 다시 밖으로 빼기)/2016~2020_치매유형현황.xlsx', sheet_name='Sheet2',header=1,thousands = ',')\n",
    "K_Year_Elder_Pop = pd.read_excel('./data/project/완료(commit할때 다시 밖으로 빼기)/2016~2020_치매유형현황.xlsx', sheet_name = 'Sheet1',header=1,thousands = ',')\n",
    "#k_Dementia\n",
    "K_Year_Elder_Pop.columns = ['연도', '시도', '구', '성별', '연령', '노인인구수']\n",
    "K_Year_Dementia_Pop.columns = ['연도', '시도', '구', '성별', '연령', '치매환자수', '노인치매유병률']\n",
    "# display(K_Year_Elder_Pop)\n",
    "# print(K_Year_Elder_Pop.info())\n",
    "\n",
    "\n",
    "# Oject로 받아오기 때문에 astype 과 str.replace로 실수화\n",
    "K_Year_Elder_Pop['노인인구수'] = K_Year_Elder_Pop['노인인구수'].astype(int)\n",
    "K_Year_Dementia_Pop['치매환자수'] = K_Year_Dementia_Pop['치매환자수'].astype(int)\n",
    "K_Year_Dementia_Pop['노인치매유병률'] = K_Year_Dementia_Pop['노인치매유병률'].str.replace('%', '').astype(float)\n",
    "\n",
    "K_Year_Elder_Pop.drop(['성별'], axis=1, inplace=True)\n",
    "K_Year_Dementia_Pop.drop(['성별'], axis=1, inplace=True)\n",
    "\n",
    "\n",
    "## 서울 구별 노인인구 현황 및 치매노인 현황&유병률 \n",
    "Seoul_Year_Elder_Pop = K_Year_Elder_Pop.loc[K_Year_Elder_Pop['시도']=='서울특별시']\n",
    "Seoul_Year_Dementia_Pop = K_Year_Dementia_Pop.loc[K_Year_Dementia_Pop['시도']=='서울특별시']\n",
    "\n",
    "Seoul_Year_Dementia = pd.merge(Seoul_Year_Elder_Pop, Seoul_Year_Dementia_Pop)"
   ]
  },
  {
   "cell_type": "markdown",
   "id": "a79f5159-854c-4bc8-b74c-ee332159ab95",
   "metadata": {},
   "source": [
    "#### ▶ **한국 전체** 통계 그래프"
   ]
  },
  {
   "cell_type": "code",
   "execution_count": null,
   "id": "61330a69-a9bc-441c-a0d9-81d82189466d",
   "metadata": {
    "tags": []
   },
   "outputs": [],
   "source": [
    "K_Year_Elder_Pop.drop(['구'], axis=1, inplace=True)\n",
    "K_Year_Dementia_Pop.drop(['구'], axis=1, inplace=True)\n",
    "K_Year_Elder_Pop = K_Year_Elder_Pop.loc[K_Year_Elder_Pop['시도']=='전국']\n",
    "K_Year_Dementia_Pop = K_Year_Dementia_Pop.loc[K_Year_Dementia_Pop['시도']=='전국']\n",
    "\n",
    "K_Year_Dementia = pd.merge(K_Year_Elder_Pop, K_Year_Dementia_Pop)#[['치매환자수', '노인치매유병률']], how = 'left', on='연령')\n",
    "display(K_Year_Dementia)"
   ]
  },
  {
   "cell_type": "code",
   "execution_count": null,
   "id": "eec3ab05-8381-4ddb-9576-3fe25b6e1e9b",
   "metadata": {},
   "outputs": [],
   "source": [
    "K_Year_65Dementia = K_Year_Dementia.loc[K_Year_Dementia['연령']=='65세이상'].copy()\n",
    "K_Year_65Dementia['연도'] = K_Year_65Dementia['연도'].astype(str)\n",
    "K_Year_65Dementia = K_Year_65Dementia.set_index('연도')\n",
    "\n",
    "K_Year_60Dementia = K_Year_Dementia.loc[K_Year_Dementia['연령']=='60세이상'].copy()\n",
    "K_Year_60Dementia['연도'] = K_Year_60Dementia['연도'].astype(str)\n",
    "K_Year_60Dementia = K_Year_60Dementia.set_index('연도')"
   ]
  },
  {
   "cell_type": "code",
   "execution_count": null,
   "id": "0b351479-073b-4c7a-a52e-9b6eb688c941",
   "metadata": {},
   "outputs": [],
   "source": [
    "display(K_Year_60Dementia)\n",
    "print(K_Year_60Dementia.info())"
   ]
  },
  {
   "cell_type": "code",
   "execution_count": null,
   "id": "044bcc85-f33a-458d-b748-91a1e87726ea",
   "metadata": {},
   "outputs": [],
   "source": [
    "#plt.bar(x,K_Year_60Dementia['치매환자수']/K_Year_60Dementia['노인인구수']*100, color = 'brown', width=0.4, label = '치매 노인 인구', alpha=0.5)\n",
    "#plt.bar(x,K_Year_60Dementia['노인인구수']/K_Year_60Dementia['노인인구수']*100, color = 'orange', width=0.4, label = '총 노인 인구', alpha=0.5) #,bottom = K_Year_60Dementia['치매환자수'] 생략 (겹치기)\n",
    "\n",
    "ax1 = K_Year_60Dementia['치매환자수'].plot(kind='bar', figsize=(6,6), width=0.5, color = 'orange',  label = '치매 노인 인구')#, alpha= 0.8)\n",
    "ax2 = ax1.twinx()\n",
    "ax2.plot(K_Year_60Dementia.index, K_Year_60Dementia.노인치매유병률 , ls='--', marker='^', markersize=10, \n",
    "         color='brown', label='치매 유병률(%)')  \n",
    "\n",
    "\n",
    "for i, v in enumerate(K_Year_60Dementia.index):\n",
    "    plt.text(v, K_Year_60Dementia.노인치매유병률[i], str(K_Year_60Dementia.노인치매유병률[i])+'%',                 # 좌표 (x축 = v, y축 = y[0]..y[1], 표시 = y[0]..y[1])\n",
    "             fontsize = 15, \n",
    "             color='brown',\n",
    "             fontweight='bold',\n",
    "             horizontalalignment='right',  # horizontalalignment (left, center, right)\n",
    "             verticalalignment='top')\n",
    "\n",
    "ax2.set_ylim(6,7.5)\n",
    "\n",
    "ax1.set_xlabel('연도', size=15)\n",
    "ax1.set_ylabel('치매 노인 수', size = 15)\n",
    "ax2.set_ylabel('치매 유병률(%)', size=15)\n",
    "plt.title('2016년~2020년_전체_노인인구_치매_유병률')\n",
    "#plt.xticks(rotation=180)\n",
    "ax1.legend(loc='upper left')\n",
    "ax2.legend(loc='upper center')\n",
    "plt.savefig(\"output/2016년~2020년_60세 이상_노인인구_치매_유병률.png\", transparent=True)   \n",
    "\n",
    "# plt.title('북한 전력 발전량 (1990 ~ 2016)', size=30)\n",
    "\n",
    "\n",
    "plt.show()"
   ]
  },
  {
   "cell_type": "code",
   "execution_count": null,
   "id": "749e1a76-8bd8-4af0-b49a-3235e2ddf847",
   "metadata": {},
   "outputs": [],
   "source": [
    "ax1 = K_Year_65Dementia['치매환자수'].plot(kind='bar', figsize=(6,6), width=0.5, color = 'brown',  label = '65세 이상 \\n치매 노인 인구')#, alpha= 0.8)\n",
    "ax2 = ax1.twinx()\n",
    "ax2.plot(K_Year_65Dementia.index, K_Year_65Dementia.노인치매유병률 , ls='--', marker='^', markersize=10, \n",
    "         color='orange', label='치매 유병률(%)')  \n",
    "\n",
    "\n",
    "for i, v in enumerate(K_Year_65Dementia.index):\n",
    "    plt.text(v, K_Year_65Dementia.노인치매유병률[i], str(K_Year_65Dementia.노인치매유병률[i])+'%',                 # 좌표 (x축 = v, y축 = y[0]..y[1], 표시 = y[0]..y[1])\n",
    "             fontsize = 15, \n",
    "             color='#e68a00',\n",
    "             fontweight='bold',\n",
    "             horizontalalignment='right',  # horizontalalignment (left, center, right)\n",
    "             verticalalignment='top')\n",
    "\n",
    "ax2.set_ylim(9,10.5)\n",
    "ax1.set_xlabel('연도', size=15)\n",
    "ax1.set_ylabel('65세 이상 치매 노인 수', size = 15)\n",
    "ax2.set_ylabel('치매 유병률', size=15)\n",
    "plt.title('2016년~2020년 65세 이상 노인인구 치매 유병률')\n",
    "#plt.xticks(rotation=180)\n",
    "ax1.legend(loc='upper left')\n",
    "ax2.legend(loc='upper center')\n",
    "plt.savefig(\"output/2016년~2020년_노인인구_치매_유병률.png\", transparent=True)   \n",
    "\n",
    "\n",
    "\n",
    "plt.show()"
   ]
  },
  {
   "cell_type": "code",
   "execution_count": null,
   "id": "cdeeec21-6385-4edd-860a-dcea9341201f",
   "metadata": {},
   "outputs": [],
   "source": [
    "merge_outer = pd.merge(K_Year_60Dementia.reset_index(), K_Year_65Dementia.reset_index(), how='outer', on='연도')"
   ]
  },
  {
   "cell_type": "code",
   "execution_count": null,
   "id": "886f1edc-9cb5-46fe-8fdd-3e5399be457f",
   "metadata": {},
   "outputs": [],
   "source": [
    "merge_outer"
   ]
  },
  {
   "cell_type": "code",
   "execution_count": null,
   "id": "1ed83b4f-37e8-40a1-b77b-546152d90dba",
   "metadata": {},
   "outputs": [],
   "source": [
    "## 2020년 기준 전체 노인 中 노인인구수 中 치매환자 수\n",
    "# 노인 기준 : 65세 이상\n",
    "plt.figure(figsize=(10,6))\n",
    "ratio = [(51829023-8134674)/51829023* 100 , 8134674/51829023*100, 840191/51829023*100 ]\n",
    "labels = ['노인 외 인구', '노인 인구', '치매 노인 인구']\n",
    "explode = [0.05, 0.05, 0.1]\n",
    "colors = ['silver', 'gold', 'brown']\n",
    "\n",
    "plt.pie(ratio, labels=labels, autopct='%.1f%%',  counterclock=False, explode=explode, colors=colors)\n",
    "plt.show()\n",
    "plt.savefig(\"output/2020년_전체_인구_중_노인인구+치매노인_비율.png\")  "
   ]
  },
  {
   "cell_type": "code",
   "execution_count": null,
   "id": "29a93675-4e8b-41dc-8e63-3b5d45c56808",
   "metadata": {},
   "outputs": [],
   "source": [
    "plt.figure(figsize=(10,6))\n",
    "ratio = [(8134674-840191)/8134674*100, 840191/8134674*100 ]\n",
    "labels = ['노인 인구', '치매 노인 인구']\n",
    "colors = ['#ffc000', 'brown']\n",
    "wedgeprops={'width': 0.7, 'edgecolor': 'k', 'linewidth': 2}\n",
    "\n",
    "\n",
    "plt.pie(ratio, labels=labels, autopct='%.1f%%',  counterclock=False, colors=colors, wedgeprops=wedgeprops)\n",
    "plt.show()\n",
    "plt.savefig(\"output/2020년_노인인구_중_치매노인_비율.png\")  "
   ]
  },
  {
   "cell_type": "code",
   "execution_count": null,
   "id": "58033417-0f99-497a-9f8f-732a1beae91a",
   "metadata": {},
   "outputs": [],
   "source": [
    "ax1 = merge_outer[['노인인구수_x','노인인구수_y']].plot(kind='bar',figsize=(6,6), width=0.5, stacked=False, color = ['brown', 'orange'], label = ['전체 노인 인구', '65세 이상\\n 노인인구'])\n",
    "ax2 = ax1.twinx()\n",
    "ax2.plot(merge_outer['연도'], merge_outer[['노인치매유병률_x','노인치매유병률_y']], ls='--', marker='o', markersize=10, \n",
    "         color='red', label=['[전체 노인]치매 유병률(%)','[65세 이상 노인]치매 유병률(%)'] )  \n",
    "\n",
    "# ax1.set_ylim(0, 100)\n",
    "ax2.set_ylim(3, 11)\n",
    "\n",
    "for i, v in enumerate(merge_outer.노인치매유병률_x):\n",
    "    plt.text(v, merge_outer.노인치매유병률_x[i], str(merge_outer.노인치매유병률_x[i])+'%',                 # 좌표 (x축 = v, y축 = y[0]..y[1], 표시 = y[0]..y[1])\n",
    "             fontsize = 20, \n",
    "             color='black',\n",
    "             horizontalalignment='center',  # horizontalalignment (left, center, right)\n",
    "             verticalalignment='top')\n",
    "\n",
    "ax1.set_xlabel('연도', size=15)\n",
    "ax1.set_ylabel('전체 인구 분포', size = 15)\n",
    "ax2.set_ylabel('전체 인구 대비 노인 인구(%)', size=15)\n",
    "plt.title('2016년~2020년 연도별 전체 인구 중 노인인구 비율')\n",
    "\n",
    "plt.savefig(\"output/2016년-2020년_연도별_전체_인구_중_노인인구_비율.png\", transparent=True)   \n",
    "\n",
    "\n",
    "# ax1.legend(loc='upper left')\n",
    "\n",
    "plt.show()"
   ]
  },
  {
   "cell_type": "markdown",
   "id": "c58e799a-962b-48dd-b000-d6f1348e99c2",
   "metadata": {},
   "source": [
    "## ※**종합** & 학대주체별 **학대유형 차이**"
   ]
  },
  {
   "cell_type": "code",
   "execution_count": null,
   "id": "15f5ec92-ad7d-48c3-90f8-5887cf68a1e6",
   "metadata": {
    "tags": []
   },
   "outputs": [],
   "source": [
    "summary = pd.read_csv(\"data/project/2016~2020_종합.csv\")\n",
    "summary.시점 = summary.시점.astype(str)\n",
    "summary.set_index('시점', inplace = True)\n",
    "display(summary)"
   ]
  },
  {
   "cell_type": "code",
   "execution_count": null,
   "id": "bbca21a3-8b02-47fc-bb45-20de60da0409",
   "metadata": {},
   "outputs": [],
   "source": [
    "summary['치매노인학대비율'] = summary['치매노인 학대'] / summary['학대피해노인'] * 100 "
   ]
  },
  {
   "cell_type": "code",
   "execution_count": null,
   "id": "e69160c1-53e0-42d4-ad6f-3aa374d8cab3",
   "metadata": {},
   "outputs": [],
   "source": [
    "print(summary['치매노인학대비율'][4])"
   ]
  },
  {
   "cell_type": "markdown",
   "id": "330bb1d8-003a-4286-8348-644a48123d6b",
   "metadata": {},
   "source": [
    "### 장소별 발생 학대 특징 "
   ]
  },
  {
   "cell_type": "code",
   "execution_count": null,
   "id": "9c35d827-af28-4256-ba1c-0b3f1a08ce50",
   "metadata": {},
   "outputs": [],
   "source": [
    "abuse_loc = pd. read_excel(\"data/project/학대주체별_학대유형_차이.xlsx\")\n",
    "display(abuse_loc)\n",
    "abuse_loc.set_index('구분', inplace=True)"
   ]
  },
  {
   "cell_type": "code",
   "execution_count": null,
   "id": "9af055ba-e397-4a03-a0c9-a0729ccc35da",
   "metadata": {},
   "outputs": [],
   "source": [
    "display(abuse_loc)\n"
   ]
  },
  {
   "cell_type": "code",
   "execution_count": null,
   "id": "c8e05135-5ed1-419b-a1ab-a94a02fac5d5",
   "metadata": {},
   "outputs": [],
   "source": [
    "abuse_loc['기관_비율'] = round(abuse_loc.기관 / abuse_loc.기관['계'] *100)\n",
    "abuse_loc['타인_비율'] = round(abuse_loc.타인 / abuse_loc.타인['계'] *100)"
   ]
  },
  {
   "cell_type": "code",
   "execution_count": null,
   "id": "1ae0bbe4-5e05-4d2c-a491-5743c01e7e20",
   "metadata": {},
   "outputs": [],
   "source": [
    "print(abuse_loc['기관_비율'][:7].index)"
   ]
  },
  {
   "cell_type": "code",
   "execution_count": null,
   "id": "14b0e1e7-e46f-46ea-a85b-c6a61a983375",
   "metadata": {},
   "outputs": [],
   "source": [
    "import seaborn as sns\n",
    "plt.figure(figsize=(12,6))\n",
    "ratio = abuse_loc['기관_비율'][:5]\n",
    "labels = abuse_loc['기관_비율'][:5].index\n",
    "explode = [0.05, 0.05, 0.05, 0.05, 0.05]\n",
    "\n",
    "\n",
    "plt.pie(ratio, labels=labels, autopct='%.1f%%',  counterclock=False,shadow=True, colors=sns.color_palette('hls', 7),explode=explode)\n",
    "plt.title('기관_발생 학대',size=15)\n",
    "plt.legend(loc=0)\n",
    "#plt.show()\n",
    "plt.savefig(\"output/2020년_기관_발생학대.png\")  "
   ]
  },
  {
   "cell_type": "code",
   "execution_count": null,
   "id": "8ff0ecc4-c84e-4709-b03b-dbe42b26797d",
   "metadata": {},
   "outputs": [],
   "source": [
    "plt.figure(figsize=(12,6))\n",
    "ratio = abuse_loc['타인_비율'][:5]\n",
    "labels = abuse_loc['타인_비율'][:5].index\n",
    "explode = [0.05, 0.05, 0.05, 0.05, 0.05]\n",
    "\n",
    "\n",
    "plt.pie(ratio, labels=labels, autopct='%.1f%%',  counterclock=False,shadow=True, colors=sns.color_palette('hls', 7),explode=explode)\n",
    "plt.title('타인_발생 학대',size=15)\n",
    "plt.legend(loc=3)\n",
    "#plt.show()\n",
    "plt.savefig(\"output/2020년_타인_발생학대.png\")  "
   ]
  },
  {
   "cell_type": "markdown",
   "id": "b9f5da6a-698d-46dd-9a1e-ee451f81dade",
   "metadata": {},
   "source": [
    "### 전체 학대 유형별 빈도 & 재학대 증감율_증감률:막대/재학대:선\n",
    "★ 계속해서 해당 서비스를 통해 관리해야한다는 점 부각"
   ]
  },
  {
   "cell_type": "code",
   "execution_count": null,
   "id": "782fedf9-9ff4-4e6a-a71e-27b88ffc2a68",
   "metadata": {},
   "outputs": [],
   "source": [
    "plt.figure(figsize=(10,6))\n",
    "ratio = [100- summary['치매노인학대비율'][4],summary['치매노인학대비율'][4] ]\n",
    "labels = ['일반 학대피해노인', '학대피해 치매노인']\n",
    "explode = [0.05, 0.1]\n",
    "colors = ['silver', 'gold']\n",
    "\n",
    "plt.pie(ratio, labels=labels, autopct='%.1f%%',  counterclock=False, explode=explode,shadow=True, colors=colors)\n",
    "plt.legend(loc=0)\n",
    "plt.title('학대피해노인_중_치매노인_비율',size=15)\n",
    "#plt.show()\n",
    "plt.savefig(\"output/2020년_학대피해노인_중_치매노인_비율.png\")  "
   ]
  },
  {
   "cell_type": "code",
   "execution_count": null,
   "id": "131edc07-ea51-4e4a-bf1f-8882f5d46af9",
   "metadata": {},
   "outputs": [],
   "source": [
    "ax1 =summary[['치매노인 학대', '학대피해노인']].plot(kind = 'bar',figsize=(10,6), width=0.3, \n",
    "                                            color=['brown','orange'], label=['신체적','방임','중복'], alpha=0.7)\n",
    "\n",
    "ax2 = ax1.twinx()\n",
    "ax2.plot(summary.index, summary.치매노인학대비율, ':' ,c='brown', marker = 'o',label='치매노인 비율')\n",
    "\n",
    "\n",
    "ax1.set_ylim(0,7000)\n",
    "ax2.set_ylim(0,50)\n",
    "ax1.set_xlabel('연도', size=15)\n",
    "ax1.set_ylabel('피해 노인 수', size = 15)\n",
    "ax2.set_ylabel('피해 치매 노인 비율', size=15)\n",
    "\n",
    "ax1.legend(loc='upper left')\n",
    "ax2.legend(loc='upper center')\n",
    "\n",
    "plt.title(\"연도별 피해노인 수\",size=20)\n",
    "plt.savefig(\"output/2016년-2020년_연도별_학대피해노인_중_치매노인.png\", transparent=True) "
   ]
  },
  {
   "cell_type": "code",
   "execution_count": null,
   "id": "e8f742fc-b599-4ced-a1e6-c311f6d2600c",
   "metadata": {},
   "outputs": [],
   "source": [
    "ax1 =summary[['신체적 학대', '방임', '학대피해노인_중복학대']].plot(kind = 'bar',figsize=(10,6), width=0.3, \n",
    "                                            color=['red','yellow','orange'], label=['신체적','방임','중복'], alpha=0.5)\n",
    "\n",
    "ax2 = ax1.twinx()\n",
    "ax2.plot(summary.index, summary.학대사례, ':' ,c='red', marker = '^',label='학대 건수')\n",
    "\n",
    "\n",
    "ax1.set_ylim(0,7000)\n",
    "ax2.set_ylim(0,10000)\n",
    "ax1.set_xlabel('연도', size=15)\n",
    "ax1.set_ylabel('학대 유형별 발생 빈도', size = 15)\n",
    "ax2.set_ylabel('전체 학대 발생 건수', size=15)\n",
    "\n",
    "ax1.legend(loc='upper left')\n",
    "ax2.legend(loc='upper center')\n",
    "\n",
    "plt.title(\"연도별 학대 발생\",size=20)\n",
    "plt.savefig(\"output/2016년-2020년_연도별_학대.png\", transparent=True) "
   ]
  },
  {
   "cell_type": "code",
   "execution_count": null,
   "id": "c8b8f539-6858-4822-8204-1c0af5fefeeb",
   "metadata": {},
   "outputs": [],
   "source": [
    "ax1 =summary['재학대 증감률'].plot(kind = 'bar',figsize=(10,6), width=0.3, color='red', label='작년 대비 증감률', alpha=0.3)\n",
    "\n",
    "ax2 = ax1.twinx()\n",
    "ax2.plot(summary.index, summary.재학대, '--' ,c='red', marker = 'o',label='재학대 발생 건수')\n",
    "\n",
    "\n",
    "ax1.set_ylim(0,100)\n",
    "ax2.set_ylim(0,6500)\n",
    "ax1.set_xlabel('연도', size=15)\n",
    "ax1.set_ylabel('재학대 발생 증감률', size = 15)\n",
    "ax2.set_ylabel('재학대 발생 건수', size=15)\n",
    "\n",
    "ax1.legend(loc=6)\n",
    "ax2.legend(loc=2)\n",
    "\n",
    "plt.title(\"연도별 재학대 발생\",size=20)\n",
    "plt.savefig(\"output/2016년-2020년_연도별_재학대.png\", transparent=True) "
   ]
  },
  {
   "cell_type": "markdown",
   "id": "5f393dff-60f1-4ad6-baec-9a2075194e72",
   "metadata": {
    "tags": []
   },
   "source": [
    "### 요양시설 대비 치매노인 수"
   ]
  },
  {
   "cell_type": "code",
   "execution_count": null,
   "id": "438e58fb-7b01-42f5-9fed-8162bd0a49ab",
   "metadata": {
    "tags": []
   },
   "outputs": [],
   "source": [
    "# color : c (그래프 색_선)/ line~ : l~ / marker : m~ / marker edge : me~ / marker face : mf~\n",
    "# color : blue / lineweight : 5 / linestyle : -- / marker : o 모양 / marker size : 15 / marker edge color : green / marker edge weight :5 / marker face color : red\n",
    "plt.figure(figsize=(10,6))\n",
    "plt.title(\"연도별 요양시설 대비 치매노인 수\",size=20)\n",
    "plt.xticks(rotation = 45)\n",
    "ax1 =summary['시설수'].plot(kind = 'bar', width=0.5, color='orange', label='시설 수')\n",
    "\n",
    "ax2 = ax1.twinx()\n",
    "ax2.plot(summary.index, summary.치매노인, '-' ,c='brown', marker = 'o',label='치매노인 수')\n",
    "ax2.plot(summary.index, summary.정원, 'b^-', label = '시설 정원 수')\n",
    "\n",
    "ax1.set_ylim(0,100000)\n",
    "ax2.set_ylim(0, 900000)\n",
    "ax1.set_xlabel('연도', size=15)\n",
    "ax1.set_ylabel('시설 수', size = 15)\n",
    "ax2.set_ylabel('시설정원 - 치매노인 격차 폭', size=15)\n",
    "\n",
    "ax2.legend(loc='upper left')\n",
    "ax1.legend(loc='upper center')\n",
    "\n",
    "plt.savefig(\"output/2016년-2020년_연도별_시설수+정원수+치매노인수.png\", transparent=True) "
   ]
  },
  {
   "cell_type": "markdown",
   "id": "b1c30c3d-fb8e-4647-bba6-6648abbebdac",
   "metadata": {},
   "source": [
    "### 연도별 시설정원 대비 초과인원 수"
   ]
  },
  {
   "cell_type": "code",
   "execution_count": null,
   "id": "72610bea-a216-4503-938a-d19785e2906a",
   "metadata": {
    "tags": []
   },
   "outputs": [],
   "source": [
    "ax1 =summary[['정원','치매노인_정원격차']].plot(kind = 'bar',figsize=(10,6), width=0.5, stacked=True, color=['white','orange'], label='격차', alpha=0.5)\n",
    "\n",
    "ax2 = ax1.twinx()\n",
    "ax2.plot(summary.index, summary.치매노인, '-' ,c='brown', marker = 'o',label='치매노인 수')\n",
    "ax2.plot(summary.index, summary.정원, 'b^-', label = '시설 정원 수')\n",
    "\n",
    "\n",
    "ax2.set_ylim(0, 900000)\n",
    "ax1.set_xlabel('연도', size=15)\n",
    "ax1.set_ylabel('격차 (정원 초과) 인구', size = 15)\n",
    "ax2.set_ylabel('시설정원 - 치매노인 수', size=15)\n",
    "\n",
    "ax1.legend(loc=3)\n",
    "ax2.legend(loc=2)\n",
    "\n",
    "plt.title(\"연도별 시설정원 대비 초과인원 수\",size=20)\n",
    "plt.savefig(\"output/2016년-2020년_연도별_정원초과_치매노인수.png\", transparent=True) "
   ]
  }
 ],
 "metadata": {
  "kernelspec": {
   "display_name": "pydatavenv",
   "language": "python",
   "name": "pydatavenv"
  },
  "language_info": {
   "codemirror_mode": {
    "name": "ipython",
    "version": 3
   },
   "file_extension": ".py",
   "mimetype": "text/x-python",
   "name": "python",
   "nbconvert_exporter": "python",
   "pygments_lexer": "ipython3",
   "version": "3.8.12"
  }
 },
 "nbformat": 4,
 "nbformat_minor": 5
}
