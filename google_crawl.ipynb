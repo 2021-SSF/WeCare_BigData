{
 "cells": [
  {
   "cell_type": "code",
   "execution_count": null,
   "id": "618cc5ee-d906-4f61-9fd1-e3dc7a192c33",
   "metadata": {},
   "outputs": [],
   "source": [
    "import urllib\n",
    "import requests\n",
    "from selenium import webdriver\n",
    "from bs4 import BeautifulSoup\n",
    "import json\n",
    "import time\n",
    "import re\n",
    "import pandas as pd\n",
    "import matplotlib.pyplot as plt\n",
    "import numpy as np\n",
    "from wordcloud import WordCloud"
   ]
  },
  {
   "cell_type": "markdown",
   "id": "a0f2fd7c-e3c5-42a1-bf9a-fdccc6a6ff91",
   "metadata": {},
   "source": [
    "# 셀렉터 테스트 여러 페이지\n",
    "### **여러 검색어를 찾아옵니다.**"
   ]
  },
  {
   "cell_type": "code",
   "execution_count": null,
   "id": "1703e188-b51d-441f-b8ac-48eeafa1057d",
   "metadata": {},
   "outputs": [],
   "source": [
    "options = webdriver.ChromeOptions()\n",
    "options.add_argument('headless')\n",
    "options.add_argument('window-size=1920x1080')\n",
    "driver = webdriver.Chrome('C:/Temp/chromedriver')"
   ]
  },
  {
   "cell_type": "code",
   "execution_count": null,
   "id": "062fb95f-5f92-41ce-963a-557386d4db15",
   "metadata": {},
   "outputs": [],
   "source": [
    "#driver = webdriver.Chrome('C:/Temp/chromedriver')"
   ]
  },
  {
   "cell_type": "code",
   "execution_count": null,
   "id": "ebd0f5bb-a3b5-4808-a420-fdf75c6e7e04",
   "metadata": {},
   "outputs": [],
   "source": [
    "# 구글 crawling 함수 선언\n",
    "def google_crawling(word):\n",
    "    # 데이터 각 각 담을 리스트 변수 선언\n",
    "    company, title, article, date = [], [], [], []\n",
    "    # 페이지 이동을 위한 Page 번호\n",
    "    startPage = 0  #endPage = 100\n",
    "    while True:\n",
    "        try : \n",
    "            driver.get(f'https://www.google.com/search?q={urllib.parse.quote(word)}&tbm=nws&ei=rL2MYaKgGc76-Qa7tJTICw&start={startPage}&sa=N&ved=2ahUKEwiipsDJ3I_0AhVOfd4KHTsaBbkQ8tMDegQIARA2&biw=1146&bih=887&dpr=1')\n",
    "            driver.implicitly_wait(3)\n",
    "        except :\n",
    "            break\n",
    "        else :\n",
    "            dataList = []\n",
    "            i = 1\n",
    "            # 한페이지에 10개 이하만 표시될 경우 오류 발생\n",
    "            # while True문으로 변경\n",
    "            while True:               \n",
    "#             for i in range(1, 11):\n",
    "                try :\n",
    "                    cssSelector = f\"#rso > div:nth-child({i}) > g-card > div > div > a > div > div.iRPxbe\"\n",
    "                    dataList.append(driver.find_element_by_css_selector(cssSelector).text)\n",
    "                except :\n",
    "                    break\n",
    "                else :\n",
    "                    i += 1\n",
    "            # 기사가 없어도 startPage 값이 계속 올라가서 무한 루프 도는 현상 해결\n",
    "            # 기사 없을 때 저장&Break\n",
    "            if len(dataList) == 0 :\n",
    "                # 데이터 프레임 저장하기\n",
    "                # data/nver_crawl/검색년도-검색월-검색일_keywore_goole.csv로 저장하기\n",
    "                data = pd.DataFrame({'company' : company, 'title' : title, 'article' : article, 'date' : date})\n",
    "                searchDate = time.strftime('%Y-%m-%d', time.localtime(time.time()))\n",
    "                data.to_csv(\"data/google_crawl/\" + searchDate +\"_\"+ word + \"_goole.csv\", index=False)\n",
    "                break\n",
    "            # \"\\n\"으로 나누기\n",
    "            tempList = []\n",
    "            for data in dataList:\n",
    "                temps = data.split('\\n')\n",
    "                for temp in temps:\n",
    "                    if temp != \".\" :\n",
    "                        tempList.append(temp)\n",
    "            # 언론사, 뉴스제목, 뉴스요약기사, 발행일 분리\n",
    "            for i, temp in enumerate(tempList):\n",
    "                if i % 4 == 0 :\n",
    "                    company.append(temp)\n",
    "                elif i % 4 == 1:\n",
    "                    title.append(temp)\n",
    "                elif i % 4 == 2:\n",
    "                    article.append(temp)\n",
    "                else:\n",
    "                    date.append(temp)\n",
    "    #         # 반복문 끝\n",
    "    #         if endPage == startPage:\n",
    "    #             break\n",
    "            startPage += 10"
   ]
  },
  {
   "cell_type": "code",
   "execution_count": null,
   "id": "c17f4c56-dccf-4a58-bf8d-e3ee3b87a331",
   "metadata": {},
   "outputs": [],
   "source": [
    "keyword = ['요양원', '요양시설']\n",
    "for s in keyword :\n",
    "    google_crawling(s)"
   ]
  },
  {
   "cell_type": "markdown",
   "id": "747a6581-6a5f-4872-9bd5-8880f6a9f2e5",
   "metadata": {},
   "source": [
    "# 형태소분석"
   ]
  },
  {
   "cell_type": "code",
   "execution_count": null,
   "id": "58321748-255e-44e7-bc41-83ee7715e486",
   "metadata": {},
   "outputs": [],
   "source": [
    "from konlpy.tag import Kkma\n",
    "sample = '이것은 형태소 분석기 입니다 아버지가방에들어가신다'\n",
    "kkma = Kkma()\n",
    "print(kkma.nouns(sample))"
   ]
  },
  {
   "cell_type": "code",
   "execution_count": null,
   "id": "a3bf409d-ae46-4b88-b3a3-f909430b2769",
   "metadata": {},
   "outputs": [],
   "source": [
    "data = pd.read_csv(\"data/google_crawl/2021-11-11_요양시설_goole.csv\")\n",
    "nounsList = []\n",
    "kkma = Kkma()\n",
    "for i in range(len(data)):\n",
    "    nonusTemp = kkma.nouns(data.loc[i, \"title\"])\n",
    "    nounsList.append(nonusTemp)\n",
    "# 이중리스트 풀기\n",
    "nounsList = [y for x in nounsList for y in x]\n",
    "nounsString = ' '.join(nounsList)"
   ]
  },
  {
   "cell_type": "code",
   "execution_count": null,
   "id": "d63fe3a2-1d14-4595-bdd8-693834d96179",
   "metadata": {},
   "outputs": [],
   "source": [
    "data2 = pd.read_csv(\"data/google_crawl/2021-11-11_요양원_goole.csv\")\n",
    "nounsList = []\n",
    "kkma = Kkma()\n",
    "for i in range(len(data)):\n",
    "    nonusTemp = kkma.nouns(data.loc[i, \"title\"])\n",
    "    nounsList.append(nonusTemp)\n",
    "# 이중리스트 풀기\n",
    "nounsList = [y for x in nounsList for y in x]\n",
    "nounsString = ' '.join(nounsList)"
   ]
  },
  {
   "cell_type": "markdown",
   "id": "530b7def-88c7-43f0-9b3c-4927a8eb87b1",
   "metadata": {},
   "source": [
    "# 워드 클라우드"
   ]
  },
  {
   "cell_type": "code",
   "execution_count": null,
   "id": "c998a395-d558-4da3-860a-e8fe45c274a3",
   "metadata": {},
   "outputs": [],
   "source": [
    "# 팀원 간 폰트 결정\n",
    "# myfontpath = \"./data/font/NanumMyeongjo.ttf\" \n",
    "myfontpath = \"font/a프로젝트.ttf\"\n",
    "plt.figure(figsize=(10,6))\n",
    "wc = WordCloud(font_path = myfontpath, background_color=\"white\", \n",
    "               contour_width=5, contour_color=\"royalblue\",\n",
    "               colormap = 'ocean')\n",
    "wc.generate(nounsString)\n",
    "wc.to_file('output/goole_wordcloud.png')\n",
    "plt.imshow(wc, interpolation='bilinear')\n",
    "plt.axis(\"off\")\n",
    "plt.show()"
   ]
  },
  {
   "cell_type": "markdown",
   "id": "30c7ef40-36f3-4dd4-a7ec-72ed9b25c865",
   "metadata": {},
   "source": [
    "# 빈도수 만들기"
   ]
  },
  {
   "cell_type": "markdown",
   "id": "1159d4fd-761d-4d89-b36b-5203cbb5fed6",
   "metadata": {},
   "source": [
    "# 함수 만들기"
   ]
  },
  {
   "cell_type": "markdown",
   "id": "f5f2917b-005d-4973-98ca-342758568229",
   "metadata": {},
   "source": [
    "---\n",
    "# ▼버려진 코드▼\n",
    "---"
   ]
  },
  {
   "cell_type": "markdown",
   "id": "6c48d11b-66f2-4d6e-b8d9-6a495465d002",
   "metadata": {},
   "source": [
    "## 셀렉터 테스트 첫번째 페이지"
   ]
  },
  {
   "cell_type": "code",
   "execution_count": null,
   "id": "d255d86c-60ed-4de0-acdb-9444ff957661",
   "metadata": {},
   "outputs": [],
   "source": [
    "print(urllib.parse.quote(\"요양원\"))\n",
    "driver.get(f'https://www.google.com/search?q={urllib.parse.quote(\"요양원\")}&sxsrf=AOaemvIg7vtIYt-lq_znIu_01EmjUVdDmQ:1636592131615&source=lnms&tbm=nws&sa=X&ved=2ahUKEwig-5XljI_0AhVhh1YBHZSxBzoQ_AUoA3oECAMQBQ&biw=1920&bih=937&dpr=1')"
   ]
  },
  {
   "cell_type": "code",
   "execution_count": null,
   "id": "2b98954b-1446-49c7-803c-46443fa1ce50",
   "metadata": {},
   "outputs": [],
   "source": [
    "'#rso > div:nth-child(1) > g-card > div > div > a > div > div.iRPxbe >'\n",
    "company, title, article = [],[],[]\n",
    "#div_path = '#rso > div:nth-child(1) > g-card > div > div > a > div > div.iRPxbe >'\n",
    "c_path = \" div.QyR1Ze BA0A6c\"\n",
    "t_path = \" div.mCBkyc.tNxQIb.ynAwRc.JIFdL.JQe2Ld.nDgy9d\"\n",
    "a_path = \" div.GI74Re nDgy9d\"\n",
    "\n",
    "driver.get(f'https://www.google.com/search?q={urllib.parse.quote(word)}&tbm=nws&ei=rL2MYaKgGc76-Qa7tJTICw&start=0&sa=N&ved=2ahUKEwiipsDJ3I_0AhVOfd4KHTsaBbkQ8tMDegQIARA2&biw=1146&bih=887&dpr=1')\n",
    "driver.implicitly_wait(3)\n",
    "for i in range(1,11) :\n",
    "    div_path = f'#rso > div:nth-child({i}) > g-card > div > div > a > div > div.iRPxbe >'\n",
    "    company.append(driver.find_element_by_css_selector(div_path+c_path).text)\n",
    "    title.append(driver.find_element_by_css_selector(div_path+t_path).text)\n",
    "    article.append(driver.find_element_by_css_selector(div_path+a_path).text)"
   ]
  },
  {
   "cell_type": "code",
   "execution_count": null,
   "id": "1482fd70-1abf-40d5-b3b5-68b822cc1740",
   "metadata": {},
   "outputs": [],
   "source": [
    "res = requests.get(f'https://www.google.com/search?q={urllib.parse.quote(\"요양원\")}&sxsrf=AOaemvIg7vtIYt-lq_znIu_01EmjUVdDmQ:1636592131615&source=lnms&tbm=nws&sa=X&ved=2ahUKEwig-5XljI_0AhVhh1YBHZSxBzoQ_AUoA3oECAMQBQ&biw=1920&bih=937&dpr=1')\n",
    "soup = BeautifulSoup(res.content, 'html.parser')\n",
    "title = soup.select(\"div.QyR1Ze BA0A6c > span\")\n",
    "print(\n",
    "for t in title :\n",
    "    print(t.get_text())"
   ]
  },
  {
   "cell_type": "code",
   "execution_count": null,
   "id": "bd777322-77f0-46ef-a148-1f9c453ef9e2",
   "metadata": {},
   "outputs": [],
   "source": [
    "keyword = ['요양원', '요양시설']\n",
    "company, title, article = [],[],[]\n",
    "div_path = '//*[@id=\"rso\"]/div[1]/g-card/div/div/a/div/div[2]'\n",
    "//*[@id=\"rso\"]/div[2]/g-card/div/div/a/div/div\n",
    "for word in keyword :\n",
    "    num=0\n",
    "    while True :\n",
    "        url = f'https://www.google.com/search?q={urllib.parse.quote(word)}&tbm=nws&ei=rL2MYaKgGc76-Qa7tJTICw&start='+str(num)+'&sa=N&ved=2ahUKEwiipsDJ3I_0AhVOfd4KHTsaBbkQ8tMDegQIARA2&biw=1146&bih=887&dpr=1'\n",
    "        print(url)\n",
    "        driver.get(url)      \n",
    "        driver.implicitly_wait(3)\n",
    "        #byXPath = driver.find_element_by_xpath('//*[@id=\"rso\"]')\n",
    "        try :\n",
    "            for i in range(1,11) :\n",
    "                print(i)\n",
    "                company.append(driver.find_element_by_xpath(div_path+str(i)+c_path).text)\n",
    "                title.append(driver.find_element_by_xpath(div_path+str(i)+t_path).text)\n",
    "                article.append(driver.find_element_by_xpath(div_path+str(i)+a_path).text)            \n",
    "        except Exception as e:\n",
    "            print(e)\n",
    "            break\n",
    "        num = num+10\n",
    "            \n",
    "        print('정상종료')"
   ]
  },
  {
   "cell_type": "code",
   "execution_count": null,
   "id": "93a2e968-4fda-4a01-b446-69279bf118d0",
   "metadata": {},
   "outputs": [],
   "source": [
    "# 확인하기\n",
    "print(len(date), date)"
   ]
  },
  {
   "cell_type": "code",
   "execution_count": null,
   "id": "e5c34c8f-0511-45e9-b5a9-642760ac341c",
   "metadata": {},
   "outputs": [],
   "source": [
    "print(len(company))\n",
    "print(len(title))\n",
    "print(len(article))\n",
    "print(len(date))"
   ]
  },
  {
   "cell_type": "code",
   "execution_count": null,
   "id": "10e25d7c-a23a-4f16-a1bc-8430626dc0b6",
   "metadata": {},
   "outputs": [],
   "source": [
    "# 데이터 프레임 저장하기\n",
    "# data/nver_crawl/검색년도-검색월-검색일_keywore_goole.csv로 저장하기\n",
    "searchDate = time.strftime('%Y-%m-%d', time.localtime(time.time()))\n",
    "data.to_csv(\"google_crawl/\" + searchDate + \"_goole.csv\", index=False)"
   ]
  },
  {
   "cell_type": "code",
   "execution_count": null,
   "id": "5d59ed47-084a-4d55-8c4c-43ea524f0fb4",
   "metadata": {},
   "outputs": [],
   "source": [
    "# 데이터 프레임 만들기\n",
    "data = pd.DataFrame({'company' : company, 'title' : title, 'article' : article, 'date' : date})"
   ]
  },
  {
   "cell_type": "code",
   "execution_count": null,
   "id": "b08872da-e4da-4f2c-b1c3-9a82bb233a61",
   "metadata": {},
   "outputs": [],
   "source": [
    "keyword = ['요양원', '요양시설']\n",
    "company, title, article = [],[],[]\n",
    "div_path = '//*[@id=\"rso\"]/div['\n",
    "c_path = \"]/g-card/div/div/a/div/div/span\"\n",
    "t_path = \"]/g-card/div/div/a/div/div[2]/div[2]\"\n",
    "a_path = \"]/g-card/div/div/a/div/div[2]/div[3]\"\n",
    "for word in keyword :\n",
    "    num=0\n",
    "    while True :\n",
    "        url = f'https://www.google.com/search?q={urllib.parse.quote(word)}&tbm=nws&ei=rL2MYaKgGc76-Qa7tJTICw&start='+str(num)+'&sa=N&ved=2ahUKEwiipsDJ3I_0AhVOfd4KHTsaBbkQ8tMDegQIARA2&biw=1146&bih=887&dpr=1'\n",
    "        print(url)\n",
    "        driver.get(url)      \n",
    "        driver.implicitly_wait(3)\n",
    "        #byXPath = driver.find_element_by_xpath('//*[@id=\"rso\"]')\n",
    "        try :\n",
    "            for i in range(1,11) :\n",
    "                print(i)\n",
    "                company.append(driver.find_element_by_xpath(div_path+str(i)+c_path).text)\n",
    "                title.append(driver.find_element_by_xpath(div_path+str(i)+t_path).text)\n",
    "                article.append(driver.find_element_by_xpath(div_path+str(i)+a_path).text)            \n",
    "        except Exception as e:\n",
    "            print(e)\n",
    "            break\n",
    "        num = num+10\n",
    "            \n",
    "        print('정상종료')"
   ]
  },
  {
   "cell_type": "code",
   "execution_count": null,
   "id": "d509e2cb-e948-47f7-a9a7-3ce2f0edebba",
   "metadata": {},
   "outputs": [],
   "source": [
    "print(company)\n",
    "print(title)"
   ]
  },
  {
   "cell_type": "code",
   "execution_count": null,
   "id": "361d720f-6e0b-41d6-b686-21c728cc9133",
   "metadata": {},
   "outputs": [],
   "source": [
    "driver.quit()"
   ]
  }
 ],
 "metadata": {
  "kernelspec": {
   "display_name": "pydatavenv",
   "language": "python",
   "name": "pydatavenv"
  },
  "language_info": {
   "codemirror_mode": {
    "name": "ipython",
    "version": 3
   },
   "file_extension": ".py",
   "mimetype": "text/x-python",
   "name": "python",
   "nbconvert_exporter": "python",
   "pygments_lexer": "ipython3",
   "version": "3.8.12"
  }
 },
 "nbformat": 4,
 "nbformat_minor": 5
}
