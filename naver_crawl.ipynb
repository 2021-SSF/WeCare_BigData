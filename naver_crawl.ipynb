{
 "cells": [
  {
   "cell_type": "markdown",
   "id": "611004d6-2b4d-4b3d-80d9-06be3fdd0b97",
   "metadata": {},
   "source": [
    "# 네이버 뉴스 API를 사용해서 요양원의 사회 이슈를 파악합니다.\n",
    "[naver api 문서](https://developers.naver.com/docs/common/openapiguide/)  \n",
    "네이버 뉴스 api url : https://openapi.naver.com/v1/search/news  \n",
    "GET형식으로 JSON, XML형식의 파일을 반환합니다. 반환내요은 네이버 검색의 뉴스 검색 결과를 반환합니다.  \n",
    "## naverapi 응답 구조\n",
    "* lastBuildDate : api 요청한 시각  \n",
    "* total : 관련 뉴스 수  \n",
    "* start : 시작  \n",
    "* display : 가져온 갯수  \n",
    "* items : 뉴스  \n",
    "<items 구조>    \n",
    "title : 뉴스 제목  \n",
    "originallink : 원래의 뉴스 주소\n",
    "link : 네이버 뉴스 링크  \n",
    "description : 뉴스 내용  \n",
    "pubDate : 출판날짜 \n",
    "\n",
    "## naverapi 개발자 key와 비밀번호 받는 방법\n",
    "[naver 문서](https://developers.naver.com/docs/common/openapiguide/appregister.md)\n"
   ]
  },
  {
   "cell_type": "markdown",
   "id": "4247ee94-3399-46a0-87f8-791037eea6c7",
   "metadata": {},
   "source": [
    "# 1. naverapi로 뉴스 200개 가져오기"
   ]
  },
  {
   "cell_type": "code",
   "execution_count": null,
   "id": "9d6d1fe4-1bdb-470d-8962-b787e1aad350",
   "metadata": {},
   "outputs": [],
   "source": [
    "import urllib.request\n",
    "import json\n",
    "import pandas as pd\n",
    "import time\n",
    "import re\n",
    "from konlpy.tag import Kkma\n",
    "# 워드 클라우드\n",
    "import numpy as np\n",
    "from wordcloud import WordCloud\n",
    "import matplotlib.pyplot as plt\n",
    "from PIL import Image\n",
    "# 빈도수 체크\n",
    "import nltk\n",
    "from nltk.tokenize import word_tokenize"
   ]
  },
  {
   "cell_type": "code",
   "execution_count": null,
   "id": "53994a06-8e30-44e4-9152-631442545740",
   "metadata": {},
   "outputs": [],
   "source": [
    "# 네이버 ReatAPI\n",
    "def naverNews(query, num) :\n",
    "    client_key = \"LlQltlguC0ebo54G0laV\"\n",
    "    client_secret = \"2iRS_csaj1\"\n",
    "    encText = urllib.parse.quote_plus(query)\n",
    "    count = [[i,100] for i in range(1, num, 100)]\n",
    "    if num % 100:\n",
    "        count[-1][1] = num % 100 \n",
    "    for i in count:\n",
    "        naver_url = 'https://openapi.naver.com/v1/search/news?query=' + encText + '&display=' + str(i[1]) +'&start=' + str(i[0])\n",
    "        # request 객체에 add하기\n",
    "        request = urllib.request.Request(naver_url)\n",
    "        request.add_header(\"X-Naver-Client-Id\",client_key)\n",
    "        request.add_header(\"X-Naver-Client-Secret\",client_secret)\n",
    "        response = urllib.request.urlopen(request)\n",
    "        # 응답받은 코드가 정상적인지 확인하기\n",
    "        rescode = response.getcode()\n",
    "        if(rescode == 200):\n",
    "            response_body = response.read()\n",
    "            if i[0] == 1:\n",
    "                dataList = json.loads(response_body)\n",
    "            else:\n",
    "                dataList[\"items\"] = dataList[\"items\"] + json.loads(response_body)[\"items\"]\n",
    "        else:\n",
    "            print('오류 코드 : ' + rescode)\n",
    "    return dataList"
   ]
  },
  {
   "cell_type": "code",
   "execution_count": null,
   "id": "0d82d6e7-65e3-49e5-b011-a53f0c0e296c",
   "metadata": {},
   "outputs": [],
   "source": [
    "# API로 응답받은 데이터중에 사용할 데이터만 전처리\n",
    "def itemsToDf(dataList):\n",
    "    itemsdf = pd.DataFrame(dataList[\"items\"])\n",
    "    for i in range(itemsdf.shape[0]):\n",
    "        # title열 데이터 정리하기\n",
    "        title = re.sub(\"<b>|</b>\", \" \", str(itemsdf.loc[i,\"title\"]))\n",
    "        title = re.sub(\"&.{1,5};\", \"\", title)\n",
    "        title = re.sub(\" ( )+\", \"\", title)\n",
    "        itemsdf.loc[i,\"title\"] = title\n",
    "        # description열 데이터 정리하기\n",
    "        description = re.sub(\"<b>|</b>\", \" \", str(itemsdf.loc[i,\"description\"]))\n",
    "        description = re.sub(\"&.{1,5};\", \"\", description)\n",
    "        description = re.sub(\" ( )+\", \"\", description)\n",
    "        itemsdf.loc[i,\"description\"] = description\n",
    "    return itemsdf"
   ]
  },
  {
   "cell_type": "code",
   "execution_count": null,
   "id": "7e2e46f5-4fa5-4145-9757-75fcc8c2e6aa",
   "metadata": {},
   "outputs": [],
   "source": [
    "# 해당 키워드로 데이터 요청하기\n",
    "data = naverNews(\"요양원\", 1000)\n",
    "data = itemsToDf(data)"
   ]
  },
  {
   "cell_type": "code",
   "execution_count": null,
   "id": "22a70d12-b3c1-46c7-98ae-74ca6a803d8f",
   "metadata": {},
   "outputs": [],
   "source": [
    "# data/nver_crawl/검색년도-검색월-검색일.csv로 저장하기\n",
    "searchDate = time.strftime('%Y-%m-%d', time.localtime(time.time()))\n",
    "data.to_csv(\"data/naver_crawl/\" + searchDate + \"_naver.csv\", index=False)"
   ]
  },
  {
   "cell_type": "markdown",
   "id": "bcc71b54-8310-4d8c-a70f-803149446e5a",
   "metadata": {},
   "source": [
    "# 2. 파일로 저장된 정보로 분석하기(list ->  string)\n",
    "https://blog.winterjung.dev/2017/04/21/list-of-lists-to-flatten  \n"
   ]
  },
  {
   "cell_type": "code",
   "execution_count": null,
   "id": "2744e45a-83e4-46df-bf6e-6ae4488c4e7d",
   "metadata": {},
   "outputs": [],
   "source": [
    "# kkma 확인하기\n",
    "sample = '이것은 형태소 분석기 입니다 아버지가방에들어가신다'\n",
    "kkma = Kkma()\n",
    "print(kkma.nouns(sample))\n",
    "# print(kkma.morphs(sample))\n",
    "# print(kkma.pos(sample))\n",
    "\n",
    "# 뉴스 제목만 분석하기\n",
    "# 오늘날짜 파일 불러오기\n",
    "file = \"data/naver_crawl/\" + time.strftime('%Y-%m-%d', time.localtime(time.time())) + \"_naver.csv\"\n",
    "data = pd.read_csv(file)\n",
    "# 제목 형태소 분석하기\n",
    "nounsList = []\n",
    "kkma = Kkma()\n",
    "for i in range(len(data)):\n",
    "    nonusTemp = kkma.nouns(data.loc[i, \"title\"])\n",
    "    nounsList.append(nonusTemp)\n",
    "# 이중리스트 풀기\n",
    "nounsList = [y for x in nounsList for y in x]\n",
    "# 한글자, 숫자 삭제\n",
    "nounsList = [noun for noun in nounsList if (len(noun) >= 2) and noun.isdigit()==False]\n",
    "# 문자열로 변환\n",
    "nounsString = ' '.join(nounsList)"
   ]
  },
  {
   "cell_type": "markdown",
   "id": "5d2d7b54-0d24-41b0-b927-ae0976ea5dd9",
   "metadata": {},
   "source": [
    "# 3. wordCloud"
   ]
  },
  {
   "cell_type": "code",
   "execution_count": null,
   "id": "bca02025-a659-4f19-8885-8a49187d96a9",
   "metadata": {},
   "outputs": [],
   "source": [
    "# 글자 폰트 설정\n",
    "myfontpath = \"./data/font/a프로젝트.ttf\" \n",
    "# 사진 크기\n",
    "plt.figure(figsize=(10,6))\n",
    "# 바탕이 될 이미지 가져오기\n",
    "custom_mask = np.array(Image.open(\"./data/images/할아버지.png\"))\n",
    "# 워드 클라우드 준비하기\n",
    "wc = WordCloud(font_path = myfontpath, background_color=\"white\", \n",
    "               mask=custom_mask, contour_width=5, contour_color=\"green\",\n",
    "               colormap = 'Greens')\n",
    "wc.generate(nounsString)\n",
    "# 파일로 저장하기\n",
    "wc.to_file('./output/wordcloud_할아버지.png')\n",
    "plt.imshow(wc, interpolation='bilinear')\n",
    "plt.axis(\"off\")\n",
    "plt.show()"
   ]
  },
  {
   "cell_type": "markdown",
   "id": "446a9aea-7bdb-49d8-b265-1b263f29eac3",
   "metadata": {},
   "source": [
    "# 4. 빈도수 체크"
   ]
  },
  {
   "cell_type": "code",
   "execution_count": null,
   "id": "368616d2-5941-49ab-9880-4eec52982729",
   "metadata": {},
   "outputs": [],
   "source": [
    "# 데이터 가져오기\n",
    "file = \"data/naver_crawl/\" + time.strftime('%Y-%m-%d', time.localtime(time.time())) + \"_naver.csv\"\n",
    "data = pd.read_csv(file)"
   ]
  },
  {
   "cell_type": "code",
   "execution_count": null,
   "id": "65f7dde0-e489-4e2d-95a4-c063aee5a264",
   "metadata": {},
   "outputs": [],
   "source": [
    "\"\"\"\n",
    "형태소를 분석해서 빈도수에 대한 데이터프레임으로 반환합니다.\n",
    "\"\"\"\n",
    "def make_Freq_df(data) :\n",
    "    #형태소 분석\n",
    "    nounsList = []\n",
    "    kkma = Kkma()\n",
    "    for i in range(len(data)):\n",
    "        titleNoun = kkma.nouns(data.loc[i, \"title\"])\n",
    "        #articleNoun = kkma.nouns(data.loc[i, \"article\"])\n",
    "        nounsList.append(titleNoun)\n",
    "        #nounsList.append(articleNoun)\n",
    "    # 이중리스트 풀기\n",
    "    nounsList = [y for x in nounsList for y in x]\n",
    "    nounsList = [noun for noun in nounsList if (len(noun) >= 2) and noun.isdigit()==False ]\n",
    "    #nltk.Text로 Text 객체 생성\n",
    "    nouns_text = nltk.Text(nounsList)\n",
    "    # DataFrame으로 만들기\n",
    "    FreqDf = pd.DataFrame(nouns_text.vocab().most_common(), columns=['word', 'freq'])\n",
    "    return FreqDf.set_index('word').head(10)"
   ]
  },
  {
   "cell_type": "code",
   "execution_count": null,
   "id": "b83fe60a-18ae-4c17-b408-abb078603a17",
   "metadata": {},
   "outputs": [],
   "source": [
    "# 빈도수 가져오기\n",
    "data1_Freq = make_Freq_df(data)\n",
    "# 표 확인하기\n",
    "display(data1_Freq)"
   ]
  }
 ],
 "metadata": {
  "kernelspec": {
   "display_name": "Python 3 (ipykernel)",
   "language": "python",
   "name": "python3"
  },
  "language_info": {
   "codemirror_mode": {
    "name": "ipython",
    "version": 3
   },
   "file_extension": ".py",
   "mimetype": "text/x-python",
   "name": "python",
   "nbconvert_exporter": "python",
   "pygments_lexer": "ipython3",
   "version": "3.8.12"
  }
 },
 "nbformat": 4,
 "nbformat_minor": 5
}
