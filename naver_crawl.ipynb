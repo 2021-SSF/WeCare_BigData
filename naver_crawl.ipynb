{
 "cells": [
  {
   "cell_type": "markdown",
   "id": "611004d6-2b4d-4b3d-80d9-06be3fdd0b97",
   "metadata": {},
   "source": [
    "# 네이버 뉴스 API를 사용해서 요양원의 사회 이슈를 파악합니다.\n",
    "[naver api 문서](https://developers.naver.com/docs/common/openapiguide/)  \n",
    "네이버 뉴스 api url : https://openapi.naver.com/v1/search/news  \n",
    "GET형식으로 JSON, XML형식의 파일을 반환합니다. 반환내요은 네이버 검색의 뉴스 검색 결과를 반환합니다.  \n",
    "## naverapi 응답 구조\n",
    "* lastBuildDate : api 요청한 시각  \n",
    "* total : 관련 뉴스 수  \n",
    "* start : 시작  \n",
    "* display : 가져온 갯수  \n",
    "* items : 뉴스  \n",
    "<items 구조>    \n",
    "title : 뉴스 제목  \n",
    "originallink : 원래의 뉴스 주소\n",
    "link : 네이버 뉴스 링크  \n",
    "description : 뉴스 내용  \n",
    "pubDate : 출판날짜 \n",
    "\n",
    "## naverapi 개발자 key와 비밀번호 받는 방법\n",
    "[naver 문서](https://developers.naver.com/docs/common/openapiguide/appregister.md)\n"
   ]
  },
  {
   "cell_type": "markdown",
   "id": "4247ee94-3399-46a0-87f8-791037eea6c7",
   "metadata": {},
   "source": [
    "# 1. naverapi로 뉴스 200개 가져오기"
   ]
  },
  {
   "cell_type": "code",
   "execution_count": null,
   "id": "9d6d1fe4-1bdb-470d-8962-b787e1aad350",
   "metadata": {},
   "outputs": [],
   "source": [
    "import urllib.request\n",
    "import json\n",
    "import pandas as pd\n",
    "import re\n",
    "import time\n",
    "from konlpy.tag import Kkma\n",
    "import numpy as np"
   ]
  },
  {
   "cell_type": "code",
   "execution_count": null,
   "id": "53994a06-8e30-44e4-9152-631442545740",
   "metadata": {},
   "outputs": [],
   "source": [
    "# 네이버 ReatAPI\n",
    "def naverNews(query, num) :\n",
    "    client_key = \"LlQltlguC0ebo54G0laV\"\n",
    "    client_secret = \"2iRS_csaj1\"\n",
    "    encText = urllib.parse.quote_plus(query)\n",
    "    count = [[i,100] for i in range(1, num, 100)]\n",
    "    if num % 100:\n",
    "        count[-1][1] = num % 100 \n",
    "    for i in count:\n",
    "        naver_url = 'https://openapi.naver.com/v1/search/news?query=' + encText + '&display=' + str(i[1]) +'&start=' + str(i[0])\n",
    "        # request 객체에 add하기\n",
    "        request = urllib.request.Request(naver_url)\n",
    "        request.add_header(\"X-Naver-Client-Id\",client_key)\n",
    "        request.add_header(\"X-Naver-Client-Secret\",client_secret)\n",
    "        response = urllib.request.urlopen(request)\n",
    "        # 응답받은 코드가 정상적인지 확인하기\n",
    "        rescode = response.getcode()\n",
    "        if(rescode == 200):\n",
    "            response_body = response.read()\n",
    "            if i[0] == 1:\n",
    "                dataList = json.loads(response_body)\n",
    "            else:\n",
    "                dataList[\"items\"] = dataList[\"items\"] + json.loads(response_body)[\"items\"]\n",
    "        else:\n",
    "            print('오류 코드 : ' + rescode)\n",
    "    return dataList"
   ]
  },
  {
   "cell_type": "code",
   "execution_count": null,
   "id": "0d82d6e7-65e3-49e5-b011-a53f0c0e296c",
   "metadata": {},
   "outputs": [],
   "source": [
    "# API로 응답받은 데이터중에 사용할 데이터만 전처리\n",
    "def itemsToDf(dataList):\n",
    "    itemsdf = pd.DataFrame(dataList[\"items\"])\n",
    "    for i in range(itemsdf.shape[0]):\n",
    "        # title열 데이터 정리하기\n",
    "        title = re.sub(\"<b>|</b>\", \" \", str(itemsdf.loc[i,\"title\"]))\n",
    "        title = re.sub(\"&.{1,5};\", \"\", title)\n",
    "        title = re.sub(\" ( )+\", \"\", title)\n",
    "        itemsdf.loc[i,\"title\"] = title\n",
    "        # description열 데이터 정리하기\n",
    "        description = re.sub(\"<b>|</b>\", \" \", str(itemsdf.loc[i,\"description\"]))\n",
    "        description = re.sub(\"&.{1,5};\", \"\", description)\n",
    "        description = re.sub(\" ( )+\", \"\", description)\n",
    "        itemsdf.loc[i,\"description\"] = description\n",
    "    return itemsdf"
   ]
  },
  {
   "cell_type": "code",
   "execution_count": null,
   "id": "7e2e46f5-4fa5-4145-9757-75fcc8c2e6aa",
   "metadata": {},
   "outputs": [],
   "source": [
    "data = naverNews(\"요양원\", 200)\n",
    "data = itemsToDf(data)"
   ]
  },
  {
   "cell_type": "code",
   "execution_count": null,
   "id": "22a70d12-b3c1-46c7-98ae-74ca6a803d8f",
   "metadata": {},
   "outputs": [],
   "source": [
    "# data/nver_crawl/검색년도-검색월-검색일.csv로 저장하기\n",
    "searchDate = time.strftime('%Y-%m-%d', time.localtime(time.time()))\n",
    "data.to_csv(\"data/naver_crawl/\" + searchDate + \".csv\", index=False)"
   ]
  },
  {
   "cell_type": "markdown",
   "id": "bcc71b54-8310-4d8c-a70f-803149446e5a",
   "metadata": {},
   "source": [
    "# 2. 파일로 저장된 정보로 분석하기\n",
    "https://blog.winterjung.dev/2017/04/21/list-of-lists-to-flatten  \n"
   ]
  },
  {
   "cell_type": "code",
   "execution_count": null,
   "id": "d742a92b-20d3-4b68-b36f-6216a63f318d",
   "metadata": {},
   "outputs": [],
   "source": [
    "from konlpy.tag import Kkma\n",
    "sample = '이것은 형태소 분석기 입니다 아버지가방에들어가신다'\n",
    "kkma = Kkma()\n",
    "print(kkma.nouns(sample))\n",
    "# print(kkma.morphs(sample))\n",
    "# print(kkma.pos(sample))"
   ]
  },
  {
   "cell_type": "code",
   "execution_count": null,
   "id": "c7a9fd02-d935-4e77-b7ab-d0183d149415",
   "metadata": {},
   "outputs": [],
   "source": [
    "# 뉴스 제목만 분석하기\n",
    "# 오늘날짜 파일 불러오기\n",
    "file = \"data/naver_crawl/\" + time.strftime('%Y-%m-%d', time.localtime(time.time())) + \".csv\"\n",
    "data = pd.read_csv(file)\n",
    "# 제목 형태소 분석하기\n",
    "nounsList = []\n",
    "kkma = Kkma()\n",
    "for i in range(len(data)):\n",
    "    nonusTemp = kkma.nouns(data.loc[i, \"title\"])\n",
    "    nounsList.append(nonusTemp)"
   ]
  },
  {
   "cell_type": "code",
   "execution_count": null,
   "id": "e476cc79-260d-46a9-ae79-ea144d3e7bdd",
   "metadata": {},
   "outputs": [],
   "source": [
    "# 이중리스트 풀기\n",
    "nounsList = [y for x in nounsList for y in x]"
   ]
  }
 ],
 "metadata": {
  "kernelspec": {
   "display_name": "Python 3 (ipykernel)",
   "language": "python",
   "name": "python3"
  },
  "language_info": {
   "codemirror_mode": {
    "name": "ipython",
    "version": 3
   },
   "file_extension": ".py",
   "mimetype": "text/x-python",
   "name": "python",
   "nbconvert_exporter": "python",
   "pygments_lexer": "ipython3",
   "version": "3.8.11"
  }
 },
 "nbformat": 4,
 "nbformat_minor": 5
}
