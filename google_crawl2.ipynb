{
 "cells": [
  {
   "cell_type": "code",
   "execution_count": 44,
   "id": "618cc5ee-d906-4f61-9fd1-e3dc7a192c33",
   "metadata": {},
   "outputs": [],
   "source": [
    "import urllib\n",
    "import requests\n",
    "from selenium import webdriver\n",
    "from bs4 import BeautifulSoup\n",
    "import json\n",
    "import time\n",
    "import re"
   ]
  },
  {
   "cell_type": "code",
   "execution_count": 54,
   "id": "1482fd70-1abf-40d5-b3b5-68b822cc1740",
   "metadata": {},
   "outputs": [],
   "source": [
    "res = requests.get(f'https://www.google.com/search?q={urllib.parse.quote(\"요양원\")}&sxsrf=AOaemvIg7vtIYt-lq_znIu_01EmjUVdDmQ:1636592131615&source=lnms&tbm=nws&sa=X&ved=2ahUKEwig-5XljI_0AhVhh1YBHZSxBzoQ_AUoA3oECAMQBQ&biw=1920&bih=937&dpr=1')\n",
    "soup = BeautifulSoup(res.content, 'html.parser')\n",
    "title = soup.select(\"div.QyR1Ze BA0A6c > span\")\n",
    "print(\n",
    "for t in title :\n",
    "    print(t.get_text())"
   ]
  },
  {
   "cell_type": "code",
   "execution_count": 74,
   "id": "1703e188-b51d-441f-b8ac-48eeafa1057d",
   "metadata": {},
   "outputs": [],
   "source": [
    "# options = webdriver.ChromeOptions()\n",
    "# options.add_argument('headless')\n",
    "# options.add_argument('window-size=1920x1080')\n",
    "driver = webdriver.Chrome('C:/Temp/chromedriver')"
   ]
  },
  {
   "cell_type": "code",
   "execution_count": 75,
   "id": "d255d86c-60ed-4de0-acdb-9444ff957661",
   "metadata": {},
   "outputs": [
    {
     "name": "stdout",
     "output_type": "stream",
     "text": [
      "%EC%9A%94%EC%96%91%EC%9B%90\n"
     ]
    }
   ],
   "source": [
    "print(urllib.parse.quote(\"요양원\"))\n",
    "driver.get(f'https://www.google.com/search?q={urllib.parse.quote(\"요양원\")}&tbm=nws&ei=rL2MYaKgGc76-Qa7tJTICw&start=0&sa=N&ved=2ahUKEwiipsDJ3I_0AhVOfd4KHTsaBbkQ8tMDegQIARA2&biw=1146&bih=887&dpr=1')"
   ]
  },
  {
   "cell_type": "code",
   "execution_count": 97,
   "id": "9c18cd63-34ba-4f38-85d5-a68ad1b7a220",
   "metadata": {
    "tags": []
   },
   "outputs": [
    {
     "name": "stdout",
     "output_type": "stream",
     "text": [
      "<class 'list'>\n",
      "노컷뉴스\n",
      ".\n",
      "'코로나19' 포항 9일 요양원 입소자 등 4명 확진\n",
      ".\n",
      "방역당국, 요양원 전수조사 후 격리 ... 경북 포항시는 지난 9일 코로나19 확진자 4명이 발생해 지역 누적 확진자는 총 1441명으로 늘었다. 1441번·1442번·...\n",
      ".\n",
      "1일 전\n",
      "노컷뉴스\n",
      ".\n",
      "청주서 요양원 돌파감염 80대 숨져…충북 87번째 사망\n",
      ".\n",
      "충북 청주의 한 요양원에서 돌파감염으로 코로나19 확진 판정을 받은 80대가 또다시 숨졌다. 지난 달 15일 첫 집단감염이 확인된 이 요양원의 사망자만...\n",
      ".\n",
      "1일 전\n",
      "국제뉴스\n",
      ".\n",
      "조길형 충주시장, 시립노인요양원 건립 현장 방문\n",
      ".\n",
      "(충주=국제뉴스) 김상민 기자 = 조길형 충북 충주시장이 지난 10일 충주시립노인요양원 건립 현장을 방문해 시설을 직접 점검하고 관계자들을 격려...\n",
      ".\n",
      "6시간 전\n",
      "신아일보\n",
      ".\n",
      "한정우 창녕군수, 치매전담요양원 신축현장 점검…내년 1월 개원\n",
      ".\n",
      "창녕군 치매전담요양원은 대합면 신당리 소재 구.구룡초등학교 부지에 총 사업비 71억원(국비 31억원, 도비 8억원, 군비 32억원)을 투입해 지하 1층...\n",
      ".\n",
      "6시간 전\n",
      "이미디어\n",
      ".\n",
      "8년 동안 노인요양원 이발 봉사활동 해온 공무원 선행 화제\n",
      ".\n",
      "양구군청 생태산림과 녹지공원담당 허남원 씨 주말마다 양구와 서울 오가며 2012년 봄 이용사 자격증 획득 지난해 코로나19로 노인요양원 출입 막힐...\n",
      ".\n",
      "1주 전\n",
      "노컷뉴스\n",
      ".\n",
      "청주서 요양원 돌파감염 70대 숨져…충북 86번째 사망\n",
      ".\n",
      "충북 청주의 한 요양원에서 돌파감염으로 코로나19 확진 판정을 받은 70대가 또다시 숨졌다. 충청북도 재난안전대책본부는 8일 충북대병원에서...\n",
      ".\n",
      "2일 전\n",
      "서울경제\n",
      ".\n",
      "자가격리 중 노마스크로 요양원 방문한 60대…입소자 3명 사망 - 서울경제\n",
      ".\n",
      "대구지방검찰청 서부지청은 지난해 서울 성북구 사랑제일교회 예배에 참석한 뒤 자가격리 통보를 받고도 요양원에서 입소자들과 접촉해 10명을 감염시키고...\n",
      ".\n",
      "2일 전\n",
      "로컬(LOCAL)세계\n",
      ".\n",
      "의성군, 금성카리타스요양원 전통공연예술프로그램 실시\n",
      ".\n",
      "[로컬세계 박상진 기자]경북 의성군은 금성면에 위치한 금성카리타스요양원에서 시설 입소 어르신들을 위해 몸과 마음을 힐링할 수 있는 전통공연예술...\n",
      ".\n",
      "4시간 전\n",
      "연합뉴스\n",
      ".\n",
      "경북 60명 확진…사업장·요양원·학교 관련 감염 지속\n",
      ".\n",
      "(안동=연합뉴스) 이승형 기자 = 경북에서 사업장과 요양원, 학교 관련 감염이 이어져 신종 코로나바이러스 감염증(코로나19) 확진자 60명이 더 나왔다...\n",
      ".\n",
      "3일 전\n",
      "헤드라인제주\n",
      ".\n",
      "금빛신협한마음어머니회, 주사랑 요양원에 100만원 상당의 ...\n",
      ".\n",
      "금빛신용협동조합(이사장 이성우)의 조합원으로 구성된 금빛신협한마음어머니회(회장 김봉윤)는 지난 10일 주사랑 요양원(원장 박병렬)에 어르신들...\n",
      ".\n",
      "4시간 전\n",
      "1358\n"
     ]
    },
    {
     "ename": "AttributeError",
     "evalue": "'list' object has no attribute 'split'",
     "output_type": "error",
     "traceback": [
      "\u001b[1;31m---------------------------------------------------------------------------\u001b[0m",
      "\u001b[1;31mAttributeError\u001b[0m                            Traceback (most recent call last)",
      "\u001b[1;32m~\\AppData\\Local\\Temp/ipykernel_2696/3721779184.py\u001b[0m in \u001b[0;36m<module>\u001b[1;34m\u001b[0m\n\u001b[0;32m      4\u001b[0m     \u001b[0mprint\u001b[0m\u001b[1;33m(\u001b[0m\u001b[0mXpath\u001b[0m\u001b[1;33m.\u001b[0m\u001b[0mtext\u001b[0m\u001b[1;33m)\u001b[0m\u001b[1;33m\u001b[0m\u001b[1;33m\u001b[0m\u001b[0m\n\u001b[0;32m      5\u001b[0m     \u001b[0mprint\u001b[0m\u001b[1;33m(\u001b[0m\u001b[0mlen\u001b[0m\u001b[1;33m(\u001b[0m\u001b[0mXpath\u001b[0m\u001b[1;33m.\u001b[0m\u001b[0mtext\u001b[0m\u001b[1;33m)\u001b[0m\u001b[1;33m)\u001b[0m\u001b[1;33m\u001b[0m\u001b[1;33m\u001b[0m\u001b[0m\n\u001b[1;32m----> 6\u001b[1;33m     \u001b[0mprint\u001b[0m\u001b[1;33m(\u001b[0m\u001b[0mbyXpath\u001b[0m\u001b[1;33m.\u001b[0m\u001b[0msplit\u001b[0m\u001b[1;33m(\u001b[0m\u001b[1;34m'.'\u001b[0m\u001b[1;33m)\u001b[0m\u001b[1;33m)\u001b[0m\u001b[1;33m\u001b[0m\u001b[1;33m\u001b[0m\u001b[0m\n\u001b[0m\u001b[0;32m      7\u001b[0m     \u001b[0mprint\u001b[0m\u001b[1;33m(\u001b[0m\u001b[1;34m'\\n'\u001b[0m\u001b[1;33m)\u001b[0m\u001b[1;33m\u001b[0m\u001b[1;33m\u001b[0m\u001b[0m\n",
      "\u001b[1;31mAttributeError\u001b[0m: 'list' object has no attribute 'split'"
     ]
    }
   ],
   "source": [
    "byXpath = driver.find_elements_by_css_selector('#rso')\n",
    "print(type(byXpath))\n",
    "for Xpath in byXpath :\n",
    "    print(Xpath.text)\n",
    "    print(len(Xpath.text))\n",
    "    print(byXpath.split('.'))\n",
    "    print('\\n')"
   ]
  },
  {
   "cell_type": "code",
   "execution_count": 96,
   "id": "bf52c3a8-5758-43d3-b69d-99fc265b3a56",
   "metadata": {},
   "outputs": [
    {
     "ename": "AttributeError",
     "evalue": "'list' object has no attribute 'split'",
     "output_type": "error",
     "traceback": [
      "\u001b[1;31m---------------------------------------------------------------------------\u001b[0m",
      "\u001b[1;31mAttributeError\u001b[0m                            Traceback (most recent call last)",
      "\u001b[1;32m~\\AppData\\Local\\Temp/ipykernel_2696/1711856610.py\u001b[0m in \u001b[0;36m<module>\u001b[1;34m\u001b[0m\n\u001b[1;32m----> 1\u001b[1;33m \u001b[0mprint\u001b[0m\u001b[1;33m(\u001b[0m\u001b[0mbyXpath\u001b[0m\u001b[1;33m.\u001b[0m\u001b[0msplit\u001b[0m\u001b[1;33m(\u001b[0m\u001b[1;34m'.'\u001b[0m\u001b[1;33m)\u001b[0m\u001b[1;33m)\u001b[0m\u001b[1;33m\u001b[0m\u001b[1;33m\u001b[0m\u001b[0m\n\u001b[0m",
      "\u001b[1;31mAttributeError\u001b[0m: 'list' object has no attribute 'split'"
     ]
    }
   ],
   "source": []
  },
  {
   "cell_type": "code",
   "execution_count": 58,
   "id": "d509e2cb-e948-47f7-a9a7-3ce2f0edebba",
   "metadata": {
    "collapsed": true,
    "jupyter": {
     "outputs_hidden": true
    },
    "tags": []
   },
   "outputs": [
    {
     "name": "stdout",
     "output_type": "stream",
     "text": [
      "['노컷뉴스', '노컷뉴스', '국제뉴스', '신아일보', '이미디어', '노컷뉴스', '서울경제', '로컬(LOCAL)세계', '연합뉴스', '헤드라인제주', '뉴스핌', '뉴시스', '노컷뉴스', 'KBS뉴스', '동아일보', '한겨레', '뉴스프리존', '뉴시스', '동양일보', '머니S', '한겨레', 'YTN', '뉴시스', '중앙신문', 'MBC 뉴스', '뉴시스', '국제뉴스', '노컷뉴스', '투데이신문', '동아일보', '뉴시스', '세이프타임즈', '경기매일']\n",
      "[\"'코로나19' 포항 9일 요양원 입소자 등 4명 확진\", '청주서 요양원 돌파감염 80대 숨져…충북 87번째 사망', '조길형 충주시장, 시립노인요양원 건립 현장 방문', '한정우 창녕군수, 치매전담요양원 신축현장 점검…내년 1월 개원', '8년 동안 노인요양원 이발 봉사활동 해온 공무원 선행 화제', '청주서 요양원 돌파감염 70대 숨져…충북 86번째 사망', '자가격리 중 노마스크로 요양원 방문한 60대…입소자 3명 사망 - 서울경제', '의성군, 금성카리타스요양원 전통공연예술프로그램 실시', '경북 60명 확진…사업장·요양원·학교 관련 감염 지속', '금빛신협한마음어머니회, 주사랑 요양원에 100만원 상당의 ...', '고령군 확산세 심상찮다...요양원·초등교 26명 또 집단감염', '서울확진자 다시 1000명대…노원 요양시설 집단감염(종합)', '대구, 요양시설·무료급식소 확진자 발생…44명', '인천 111명 신규확진…요양시설 등 감염 확산', '요양시설 집단감염 계속…접촉자 공동격리만 51곳', '요양시설·정신병원 부스터샷 최대 4주 당긴다', '경기도, 요양시설 관리자 감염병 대응 교육', '백신 접종완료율 77.2%…오늘부턴 요양시설 부스터샷(종합2보)', '사랑 가득한 통합케어 요양시설···서천사랑통합케어센터 설립', '당국 \"돌파감염자도 부스터샷 맞아야\"… 요양시설 추가접종 시작 - 머니S', \"전담병원 부족하다고…요양·정신병원, 환자 이송 대신 '코호트 ...\", '오늘부터 요양병원·시설 부스터 샷 시작...\"돌파감염 걱정 덜었어요\"', '요양시설도 부스터샷 들어간다…한달 당겨 본격 확대', '“요양병원·요양시설 집단감염 증가 추세”...신규 확진자 2425명 ...', \"위중증 '급증'‥요양병원·시설 '추가 접종'\", '요양시설 집단감염 계속…접촉자 공동격리만 51곳(종합)', '백신 부스터샷 추가 접종 대상 \"얀센 접종자·요양시설 종사자\"', '춘천 요양시설·학교·군부대, 코로나19 확진 속출', \"코로나19 위중증 확진환자 급증…방역당국 “'비상계획' 가동 ...\", '교육·요양시설 집단감염 급증…당국 “방역·접종 동참 절실”', \"요양시설 집단감염 계속…창원 의료기관 300명 '육박'\", '목포소방서, 산림 인접 요양시설 대피훈련 추진', '안산시, 노인요양시설 협회 간담회 개최']\n"
     ]
    }
   ],
   "source": [
    "print(company)\n",
    "print(title)"
   ]
  },
  {
   "cell_type": "markdown",
   "id": "2c3b29bb-6687-4e1a-86dc-161d0f055870",
   "metadata": {
    "tags": []
   },
   "source": [
    "## 버려진 코드"
   ]
  },
  {
   "cell_type": "code",
   "execution_count": 72,
   "id": "2b98954b-1446-49c7-803c-46443fa1ce50",
   "metadata": {
    "collapsed": true,
    "jupyter": {
     "outputs_hidden": true
    },
    "tags": []
   },
   "outputs": [
    {
     "ename": "NoSuchElementException",
     "evalue": "Message: no such element: Unable to locate element: {\"method\":\"css selector\",\"selector\":\"#rso > div:nth-child(1) > g-card > div > div > a > div > div.iRPxbe > div.QyR1Ze BA0A6c\"}\n  (Session info: chrome=95.0.4638.69)\n",
     "output_type": "error",
     "traceback": [
      "\u001b[1;31m---------------------------------------------------------------------------\u001b[0m",
      "\u001b[1;31mNoSuchElementException\u001b[0m                    Traceback (most recent call last)",
      "\u001b[1;32m~\\AppData\\Local\\Temp/ipykernel_2696/3961542779.py\u001b[0m in \u001b[0;36m<module>\u001b[1;34m\u001b[0m\n\u001b[0;32m     10\u001b[0m \u001b[1;32mfor\u001b[0m \u001b[0mi\u001b[0m \u001b[1;32min\u001b[0m \u001b[0mrange\u001b[0m\u001b[1;33m(\u001b[0m\u001b[1;36m1\u001b[0m\u001b[1;33m,\u001b[0m\u001b[1;36m11\u001b[0m\u001b[1;33m)\u001b[0m \u001b[1;33m:\u001b[0m\u001b[1;33m\u001b[0m\u001b[1;33m\u001b[0m\u001b[0m\n\u001b[0;32m     11\u001b[0m     \u001b[0mdiv_path\u001b[0m \u001b[1;33m=\u001b[0m \u001b[1;34mf'#rso > div:nth-child({i}) > g-card > div > div > a > div > div.iRPxbe >'\u001b[0m\u001b[1;33m\u001b[0m\u001b[1;33m\u001b[0m\u001b[0m\n\u001b[1;32m---> 12\u001b[1;33m     \u001b[0mcompany\u001b[0m\u001b[1;33m.\u001b[0m\u001b[0mappend\u001b[0m\u001b[1;33m(\u001b[0m\u001b[0mdriver\u001b[0m\u001b[1;33m.\u001b[0m\u001b[0mfind_element_by_css_selector\u001b[0m\u001b[1;33m(\u001b[0m\u001b[0mdiv_path\u001b[0m\u001b[1;33m+\u001b[0m\u001b[0mc_path\u001b[0m\u001b[1;33m)\u001b[0m\u001b[1;33m.\u001b[0m\u001b[0mtext\u001b[0m\u001b[1;33m)\u001b[0m\u001b[1;33m\u001b[0m\u001b[1;33m\u001b[0m\u001b[0m\n\u001b[0m\u001b[0;32m     13\u001b[0m     \u001b[0mtitle\u001b[0m\u001b[1;33m.\u001b[0m\u001b[0mappend\u001b[0m\u001b[1;33m(\u001b[0m\u001b[0mdriver\u001b[0m\u001b[1;33m.\u001b[0m\u001b[0mfind_element_by_css_selector\u001b[0m\u001b[1;33m(\u001b[0m\u001b[0mdiv_path\u001b[0m\u001b[1;33m+\u001b[0m\u001b[0mt_path\u001b[0m\u001b[1;33m)\u001b[0m\u001b[1;33m.\u001b[0m\u001b[0mtext\u001b[0m\u001b[1;33m)\u001b[0m\u001b[1;33m\u001b[0m\u001b[1;33m\u001b[0m\u001b[0m\n\u001b[0;32m     14\u001b[0m     \u001b[0marticle\u001b[0m\u001b[1;33m.\u001b[0m\u001b[0mappend\u001b[0m\u001b[1;33m(\u001b[0m\u001b[0mdriver\u001b[0m\u001b[1;33m.\u001b[0m\u001b[0mfind_element_by_css_selector\u001b[0m\u001b[1;33m(\u001b[0m\u001b[0mdiv_path\u001b[0m\u001b[1;33m+\u001b[0m\u001b[0ma_path\u001b[0m\u001b[1;33m)\u001b[0m\u001b[1;33m.\u001b[0m\u001b[0mtext\u001b[0m\u001b[1;33m)\u001b[0m\u001b[1;33m\u001b[0m\u001b[1;33m\u001b[0m\u001b[0m\n",
      "\u001b[1;32m~\\anaconda3\\envs\\pydatavenv\\lib\\site-packages\\selenium\\webdriver\\remote\\webdriver.py\u001b[0m in \u001b[0;36mfind_element_by_css_selector\u001b[1;34m(self, css_selector)\u001b[0m\n\u001b[0;32m    596\u001b[0m             \u001b[0melement\u001b[0m \u001b[1;33m=\u001b[0m \u001b[0mdriver\u001b[0m\u001b[1;33m.\u001b[0m\u001b[0mfind_element_by_css_selector\u001b[0m\u001b[1;33m(\u001b[0m\u001b[1;34m'#foo'\u001b[0m\u001b[1;33m)\u001b[0m\u001b[1;33m\u001b[0m\u001b[1;33m\u001b[0m\u001b[0m\n\u001b[0;32m    597\u001b[0m         \"\"\"\n\u001b[1;32m--> 598\u001b[1;33m         \u001b[1;32mreturn\u001b[0m \u001b[0mself\u001b[0m\u001b[1;33m.\u001b[0m\u001b[0mfind_element\u001b[0m\u001b[1;33m(\u001b[0m\u001b[0mby\u001b[0m\u001b[1;33m=\u001b[0m\u001b[0mBy\u001b[0m\u001b[1;33m.\u001b[0m\u001b[0mCSS_SELECTOR\u001b[0m\u001b[1;33m,\u001b[0m \u001b[0mvalue\u001b[0m\u001b[1;33m=\u001b[0m\u001b[0mcss_selector\u001b[0m\u001b[1;33m)\u001b[0m\u001b[1;33m\u001b[0m\u001b[1;33m\u001b[0m\u001b[0m\n\u001b[0m\u001b[0;32m    599\u001b[0m \u001b[1;33m\u001b[0m\u001b[0m\n\u001b[0;32m    600\u001b[0m     \u001b[1;32mdef\u001b[0m \u001b[0mfind_elements_by_css_selector\u001b[0m\u001b[1;33m(\u001b[0m\u001b[0mself\u001b[0m\u001b[1;33m,\u001b[0m \u001b[0mcss_selector\u001b[0m\u001b[1;33m)\u001b[0m\u001b[1;33m:\u001b[0m\u001b[1;33m\u001b[0m\u001b[1;33m\u001b[0m\u001b[0m\n",
      "\u001b[1;32m~\\anaconda3\\envs\\pydatavenv\\lib\\site-packages\\selenium\\webdriver\\remote\\webdriver.py\u001b[0m in \u001b[0;36mfind_element\u001b[1;34m(self, by, value)\u001b[0m\n\u001b[0;32m    974\u001b[0m                 \u001b[0mby\u001b[0m \u001b[1;33m=\u001b[0m \u001b[0mBy\u001b[0m\u001b[1;33m.\u001b[0m\u001b[0mCSS_SELECTOR\u001b[0m\u001b[1;33m\u001b[0m\u001b[1;33m\u001b[0m\u001b[0m\n\u001b[0;32m    975\u001b[0m                 \u001b[0mvalue\u001b[0m \u001b[1;33m=\u001b[0m \u001b[1;34m'[name=\"%s\"]'\u001b[0m \u001b[1;33m%\u001b[0m \u001b[0mvalue\u001b[0m\u001b[1;33m\u001b[0m\u001b[1;33m\u001b[0m\u001b[0m\n\u001b[1;32m--> 976\u001b[1;33m         return self.execute(Command.FIND_ELEMENT, {\n\u001b[0m\u001b[0;32m    977\u001b[0m             \u001b[1;34m'using'\u001b[0m\u001b[1;33m:\u001b[0m \u001b[0mby\u001b[0m\u001b[1;33m,\u001b[0m\u001b[1;33m\u001b[0m\u001b[1;33m\u001b[0m\u001b[0m\n\u001b[0;32m    978\u001b[0m             'value': value})['value']\n",
      "\u001b[1;32m~\\anaconda3\\envs\\pydatavenv\\lib\\site-packages\\selenium\\webdriver\\remote\\webdriver.py\u001b[0m in \u001b[0;36mexecute\u001b[1;34m(self, driver_command, params)\u001b[0m\n\u001b[0;32m    319\u001b[0m         \u001b[0mresponse\u001b[0m \u001b[1;33m=\u001b[0m \u001b[0mself\u001b[0m\u001b[1;33m.\u001b[0m\u001b[0mcommand_executor\u001b[0m\u001b[1;33m.\u001b[0m\u001b[0mexecute\u001b[0m\u001b[1;33m(\u001b[0m\u001b[0mdriver_command\u001b[0m\u001b[1;33m,\u001b[0m \u001b[0mparams\u001b[0m\u001b[1;33m)\u001b[0m\u001b[1;33m\u001b[0m\u001b[1;33m\u001b[0m\u001b[0m\n\u001b[0;32m    320\u001b[0m         \u001b[1;32mif\u001b[0m \u001b[0mresponse\u001b[0m\u001b[1;33m:\u001b[0m\u001b[1;33m\u001b[0m\u001b[1;33m\u001b[0m\u001b[0m\n\u001b[1;32m--> 321\u001b[1;33m             \u001b[0mself\u001b[0m\u001b[1;33m.\u001b[0m\u001b[0merror_handler\u001b[0m\u001b[1;33m.\u001b[0m\u001b[0mcheck_response\u001b[0m\u001b[1;33m(\u001b[0m\u001b[0mresponse\u001b[0m\u001b[1;33m)\u001b[0m\u001b[1;33m\u001b[0m\u001b[1;33m\u001b[0m\u001b[0m\n\u001b[0m\u001b[0;32m    322\u001b[0m             response['value'] = self._unwrap_value(\n\u001b[0;32m    323\u001b[0m                 response.get('value', None))\n",
      "\u001b[1;32m~\\anaconda3\\envs\\pydatavenv\\lib\\site-packages\\selenium\\webdriver\\remote\\errorhandler.py\u001b[0m in \u001b[0;36mcheck_response\u001b[1;34m(self, response)\u001b[0m\n\u001b[0;32m    240\u001b[0m                 \u001b[0malert_text\u001b[0m \u001b[1;33m=\u001b[0m \u001b[0mvalue\u001b[0m\u001b[1;33m[\u001b[0m\u001b[1;34m'alert'\u001b[0m\u001b[1;33m]\u001b[0m\u001b[1;33m.\u001b[0m\u001b[0mget\u001b[0m\u001b[1;33m(\u001b[0m\u001b[1;34m'text'\u001b[0m\u001b[1;33m)\u001b[0m\u001b[1;33m\u001b[0m\u001b[1;33m\u001b[0m\u001b[0m\n\u001b[0;32m    241\u001b[0m             \u001b[1;32mraise\u001b[0m \u001b[0mexception_class\u001b[0m\u001b[1;33m(\u001b[0m\u001b[0mmessage\u001b[0m\u001b[1;33m,\u001b[0m \u001b[0mscreen\u001b[0m\u001b[1;33m,\u001b[0m \u001b[0mstacktrace\u001b[0m\u001b[1;33m,\u001b[0m \u001b[0malert_text\u001b[0m\u001b[1;33m)\u001b[0m\u001b[1;33m\u001b[0m\u001b[1;33m\u001b[0m\u001b[0m\n\u001b[1;32m--> 242\u001b[1;33m         \u001b[1;32mraise\u001b[0m \u001b[0mexception_class\u001b[0m\u001b[1;33m(\u001b[0m\u001b[0mmessage\u001b[0m\u001b[1;33m,\u001b[0m \u001b[0mscreen\u001b[0m\u001b[1;33m,\u001b[0m \u001b[0mstacktrace\u001b[0m\u001b[1;33m)\u001b[0m\u001b[1;33m\u001b[0m\u001b[1;33m\u001b[0m\u001b[0m\n\u001b[0m\u001b[0;32m    243\u001b[0m \u001b[1;33m\u001b[0m\u001b[0m\n\u001b[0;32m    244\u001b[0m     \u001b[1;32mdef\u001b[0m \u001b[0m_value_or_default\u001b[0m\u001b[1;33m(\u001b[0m\u001b[0mself\u001b[0m\u001b[1;33m,\u001b[0m \u001b[0mobj\u001b[0m\u001b[1;33m,\u001b[0m \u001b[0mkey\u001b[0m\u001b[1;33m,\u001b[0m \u001b[0mdefault\u001b[0m\u001b[1;33m)\u001b[0m\u001b[1;33m:\u001b[0m\u001b[1;33m\u001b[0m\u001b[1;33m\u001b[0m\u001b[0m\n",
      "\u001b[1;31mNoSuchElementException\u001b[0m: Message: no such element: Unable to locate element: {\"method\":\"css selector\",\"selector\":\"#rso > div:nth-child(1) > g-card > div > div > a > div > div.iRPxbe > div.QyR1Ze BA0A6c\"}\n  (Session info: chrome=95.0.4638.69)\n"
     ]
    }
   ],
   "source": [
    "'#rso > div:nth-child(1) > g-card > div > div > a > div > div.iRPxbe >'\n",
    "company, title, article = [],[],[]\n",
    "#div_path = '#rso > div:nth-child(1) > g-card > div > div > a > div > div.iRPxbe >'\n",
    "c_path = \" div.QyR1Ze BA0A6c\"\n",
    "t_path = \" div.mCBkyc.tNxQIb.ynAwRc.JIFdL.JQe2Ld.nDgy9d\"\n",
    "a_path = \" div.GI74Re nDgy9d\"\n",
    "\n",
    "driver.get(f'https://www.google.com/search?q={urllib.parse.quote(word)}&tbm=nws&ei=rL2MYaKgGc76-Qa7tJTICw&start=0&sa=N&ved=2ahUKEwiipsDJ3I_0AhVOfd4KHTsaBbkQ8tMDegQIARA2&biw=1146&bih=887&dpr=1')\n",
    "driver.implicitly_wait(3)\n",
    "for i in range(1,11) :\n",
    "    div_path = '#rso > div:nth-child(%d) > g-card > div > div > a > div > div.iRPxbe >'%i\n",
    "    company.append(driver.find_element_by_css_selector(div_path+c_path).text)\n",
    "    title.append(driver.find_element_by_css_selector(div_path+t_path).text)\n",
    "    article.append(driver.find_element_by_css_selector(div_path+a_path).text)"
   ]
  },
  {
   "cell_type": "code",
   "execution_count": 66,
   "id": "b08872da-e4da-4f2c-b1c3-9a82bb233a61",
   "metadata": {},
   "outputs": [
    {
     "name": "stdout",
     "output_type": "stream",
     "text": [
      "정상종료\n",
      "Message: no such element: Unable to locate element: {\"method\":\"xpath\",\"selector\":\"//*[@id=\"rso\"]/div[2]/g-card/div/div/a/div/div[2]/div[1]\"}\n",
      "  (Session info: chrome=95.0.4638.69)\n",
      "\n",
      "정상종료\n",
      "Message: no such element: Unable to locate element: {\"method\":\"xpath\",\"selector\":\"//*[@id=\"rso\"]/div[7]/g-card/div/div/a/div/div[2]/div[1]\"}\n",
      "  (Session info: chrome=95.0.4638.69)\n",
      "\n"
     ]
    }
   ],
   "source": [
    "keyword = ['요양원', '요양시설']\n",
    "company, title, article = [],[],[]\n",
    "div_path = '//*[@id=\"rso\"]/div['\n",
    "c_path = \"]/g-card/div/div/a/div/div[2]/div[1]\"\n",
    "t_path = \"]/g-card/div/div/a/div/div[2]/div[2]\"\n",
    "a_path = \"]/g-card/div/div/a/div/div[2]/div[3]\"\n",
    "for word in keyword :\n",
    "    num=0\n",
    "    while True :\n",
    "        driver.get(f'https://www.google.com/search?q={urllib.parse.quote(word)}&tbm=nws&ei=rL2MYaKgGc76-Qa7tJTICw&start='+str(num)+'&sa=N&ved=2ahUKEwiipsDJ3I_0AhVOfd4KHTsaBbkQ8tMDegQIARA2&biw=1146&bih=887&dpr=1')\n",
    "        driver.implicitly_wait(3)\n",
    "        #byXPath = driver.find_element_by_xpath('//*[@id=\"rso\"]')\n",
    "        try :\n",
    "            for i in range(1,11) :\n",
    "                company.append(driver.find_element_by_xpath(div_path+str(i)+c_path).text)\n",
    "                title.append(driver.find_element_by_xpath(div_path+str(i)+t_path).text)\n",
    "                article.append(driver.find_element_by_xpath(div_path+str(i)+a_path).text)            \n",
    "        except Exception as e:\n",
    "            print(e)\n",
    "            break\n",
    "        num = num+10\n",
    "            \n",
    "        print('정상종료')"
   ]
  },
  {
   "cell_type": "code",
   "execution_count": null,
   "id": "361d720f-6e0b-41d6-b686-21c728cc9133",
   "metadata": {
    "tags": []
   },
   "outputs": [],
   "source": [
    "driver.quit()"
   ]
  }
 ],
 "metadata": {
  "kernelspec": {
   "display_name": "pydatavenv",
   "language": "python",
   "name": "pydatavenv"
  },
  "language_info": {
   "codemirror_mode": {
    "name": "ipython",
    "version": 3
   },
   "file_extension": ".py",
   "mimetype": "text/x-python",
   "name": "python",
   "nbconvert_exporter": "python",
   "pygments_lexer": "ipython3",
   "version": "3.8.12"
  }
 },
 "nbformat": 4,
 "nbformat_minor": 5
}
